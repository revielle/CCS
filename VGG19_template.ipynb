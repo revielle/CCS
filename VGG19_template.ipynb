{
 "cells": [
  {
   "cell_type": "markdown",
   "id": "fe247bf7",
   "metadata": {},
   "source": [
    "# VGG19 template:"
   ]
  },
  {
   "cell_type": "markdown",
   "id": "291e9e9a",
   "metadata": {},
   "source": [
    "#### import libraries:"
   ]
  },
  {
   "cell_type": "code",
   "execution_count": null,
   "id": "1fb8a0e3",
   "metadata": {},
   "outputs": [],
   "source": [
    "import pandas as pd\n",
    "import numpy as np\n",
    "import matplotlib.pyplot as plt\n",
    "import seaborn as sns\n",
    "import tensorflow as tf\n",
    "import tensorflow_io as tfio\n",
    "import os\n",
    "from keras.utils import  to_categorical\n",
    "from keras.preprocessing.image import ImageDataGenerator\n",
    "from keras.applications.mobilenet import preprocess_input"
   ]
  },
  {
   "cell_type": "code",
   "execution_count": null,
   "id": "59b9e25f",
   "metadata": {},
   "outputs": [],
   "source": [
    "from keras import Sequential\n",
    "from keras.layers import Dense,Flatten,Conv2D,MaxPooling2D,GlobalAveragePooling2D\n",
    "from sklearn.metrics import accuracy_score, confusion_matrix"
   ]
  },
  {
   "cell_type": "markdown",
   "id": "626017b1",
   "metadata": {},
   "source": [
    "#### import dataset"
   ]
  },
  {
   "cell_type": "code",
   "execution_count": null,
   "id": "f6bdaea7",
   "metadata": {},
   "outputs": [],
   "source": [
    "d = tf.keras.utils.image_dataset_from_directory('IMGS', batch_size=10)"
   ]
  },
  {
   "cell_type": "code",
   "execution_count": null,
   "id": "23a450e4",
   "metadata": {},
   "outputs": [],
   "source": [
    "data = d.map(lambda x,y: (x/255,y))"
   ]
  },
  {
   "cell_type": "code",
   "execution_count": null,
   "id": "7c4aad0c",
   "metadata": {},
   "outputs": [],
   "source": [
    "data.as_numpy_iterator().next() "
   ]
  },
  {
   "cell_type": "markdown",
   "id": "fff1432f",
   "metadata": {},
   "source": [
    "#### define train, val, test"
   ]
  },
  {
   "cell_type": "code",
   "execution_count": null,
   "id": "4cb214a8",
   "metadata": {},
   "outputs": [],
   "source": [
    "train_size = int(len(data)*.7) \n",
    "val_size = int(len(data)*.2)  \n",
    "test_size = int(len(data)*.1) "
   ]
  },
  {
   "cell_type": "code",
   "execution_count": null,
   "id": "752b6dec",
   "metadata": {},
   "outputs": [],
   "source": [
    "train = data.take(train_size)  #2110 images\n",
    "val = data.skip(train_size).take(val_size) #600\n",
    "test = data.skip(train_size+val_size).take(test_size) #300"
   ]
  },
  {
   "cell_type": "code",
   "execution_count": null,
   "id": "13aae040",
   "metadata": {},
   "outputs": [],
   "source": [
    "len(train)"
   ]
  },
  {
   "cell_type": "code",
   "execution_count": null,
   "id": "dc24d1f5",
   "metadata": {},
   "outputs": [],
   "source": [
    "Y_train = np.concatenate([y for x, y in train], axis=0)\n",
    "X_train = np.concatenate([x for x, y in train], axis=0)\n",
    "\n",
    "Y_val = np.concatenate([y for x, y in val], axis=0)\n",
    "X_val = np.concatenate([x for x, y in val], axis=0)\n",
    "\n",
    "Y_test = np.concatenate([y for x, y in test], axis=0)\n",
    "X_test = np.concatenate([x for x, y in test], axis=0)"
   ]
  },
  {
   "cell_type": "code",
   "execution_count": null,
   "id": "2d9d9f78",
   "metadata": {},
   "outputs": [],
   "source": [
    "Y_train_cat = to_categorical(Y_train)\n",
    "Y_val_cat = to_categorical(Y_val)\n",
    "Y_test_cat = to_categorical(Y_test)"
   ]
  },
  {
   "cell_type": "markdown",
   "id": "ccbebb48",
   "metadata": {},
   "source": [
    "# VGG19"
   ]
  },
  {
   "cell_type": "code",
   "execution_count": null,
   "id": "715d07ec",
   "metadata": {},
   "outputs": [],
   "source": [
    "from keras.applications.vgg19 import VGG19\n",
    "vgg19_model = VGG19(weights='imagenet',include_top=False)"
   ]
  },
  {
   "cell_type": "code",
   "execution_count": null,
   "id": "b292481e",
   "metadata": {},
   "outputs": [],
   "source": [
    "x=vgg19_model.output"
   ]
  },
  {
   "cell_type": "code",
   "execution_count": null,
   "id": "de4c63f2",
   "metadata": {},
   "outputs": [],
   "source": [
    "x = GlobalAveragePooling2D()(x)\n",
    "x = Dense(1024,activation='relu')(x)\n",
    "x = Dense(512,activation='relu')(x) \n",
    "x = Dense(216,activation='relu')(x) \n",
    "preds = Dense(6, activation='softmax')(x) "
   ]
  },
  {
   "cell_type": "code",
   "execution_count": null,
   "id": "abecbbea",
   "metadata": {},
   "outputs": [],
   "source": [
    "from keras.models import Model\n",
    "newModel=Model(inputs=vgg19_model.input,outputs=preds)\n",
    "print(\"layer count: %d\" %len(newModel.layers))\n",
    "newModel.summary()"
   ]
  },
  {
   "cell_type": "markdown",
   "id": "d5753ed1",
   "metadata": {},
   "source": [
    "## data augmentation:"
   ]
  },
  {
   "cell_type": "code",
   "execution_count": null,
   "id": "0638ab1d",
   "metadata": {},
   "outputs": [],
   "source": [
    "train_datagen=ImageDataGenerator(\n",
    "    height_shift_range = 0.2,\n",
    "    featurewise_center=True,\n",
    "    featurewise_std_normalization=True,\n",
    "    zoom_range = 0.4,\n",
    "    horizontal_flip = True,\n",
    "    fill_mode='reflect'\n",
    ")\n",
    "train_datagen.fit(X_train)\n",
    "\n",
    "train_generator=train_datagen.flow(X_train, \n",
    "                                                  Y_train_cat,\n",
    "                                                  #target_size=(80,80),\n",
    "                                                  #color_mode='rgb',\n",
    "                                                  batch_size=16,\n",
    "                                                  #class_mode='categorical',\n",
    "                                                  shuffle=True\n",
    "                                                 )"
   ]
  },
  {
   "cell_type": "code",
   "execution_count": null,
   "id": "f8802fb3",
   "metadata": {},
   "outputs": [],
   "source": [
    "val_datagen=ImageDataGenerator()\n",
    "val_generator=val_datagen.flow(X_val, \n",
    "                                                  Y_val_cat,\n",
    "                                                  #target_size=(80,80),\n",
    "                                                  #color_mode='rgb',\n",
    "                                                  batch_size=16,\n",
    "                                                  #class_mode='categorical',\n",
    "                                                  shuffle=True\n",
    "                                                 )"
   ]
  },
  {
   "cell_type": "code",
   "execution_count": null,
   "id": "96b2ddab",
   "metadata": {
    "scrolled": true
   },
   "outputs": [],
   "source": [
    "newModel.compile(optimizer='Adam',loss='categorical_crossentropy',metrics=['accuracy'])"
   ]
  },
  {
   "cell_type": "code",
   "execution_count": null,
   "id": "65b56de3",
   "metadata": {},
   "outputs": [],
   "source": [
    "#check n of steps per epoch:\n",
    "train_generator.n//train_generator.batch_size"
   ]
  },
  {
   "cell_type": "markdown",
   "id": "bc0ad51c",
   "metadata": {},
   "source": [
    "#### Early stopping:"
   ]
  },
  {
   "cell_type": "code",
   "execution_count": null,
   "id": "73327a98",
   "metadata": {},
   "outputs": [],
   "source": [
    "class myCallback(tf.keras.callbacks.Callback):\n",
    "    def on_epoch_end(self, epoch, logs={}):\n",
    "        if (logs.get('accuracy')>0.95):\n",
    "            print('\\nReached 95+%, so canceling training')\n",
    "            self.model.stop_training = True"
   ]
  },
  {
   "cell_type": "code",
   "execution_count": null,
   "id": "3c0c3229",
   "metadata": {},
   "outputs": [],
   "source": [
    "history = newModel.fit_generator(generator= train_generator,\n",
    "                                 steps_per_epoch=100,\n",
    "                                 validation_data = val_generator,\n",
    "                                 epochs=5, \n",
    "                                 callbacks=myCallback())"
   ]
  },
  {
   "cell_type": "markdown",
   "id": "a9a289da",
   "metadata": {},
   "source": [
    "#### evaluate model (accuracy + confusion matrices)"
   ]
  },
  {
   "cell_type": "code",
   "execution_count": null,
   "id": "9e303544",
   "metadata": {},
   "outputs": [],
   "source": [
    "newModel.evaluate(X_val, Y_val_cat)"
   ]
  },
  {
   "cell_type": "code",
   "execution_count": null,
   "id": "fb03c0c6",
   "metadata": {},
   "outputs": [],
   "source": [
    "test_pred = newModel.predict(X_val)\n",
    "test_predicted = np.argmax(test_pred, axis = 1)\n",
    "test_true = np.argmax(Y_val_cat, axis = 1)\n",
    "confmx = confusion_matrix(test_predicted, test_true)\n",
    "f, ax = plt.subplots(figsize = (8,8))\n",
    "sns.heatmap(confmx, annot=True, fmt='.1f', ax = ax)\n",
    "plt.xlabel('Predicted Labels')\n",
    "plt.ylabel('True Labels')\n",
    "plt.title('Confusion Matrix')\n",
    "plt.show();"
   ]
  }
 ],
 "metadata": {
  "kernelspec": {
   "display_name": "Python 3 (ipykernel)",
   "language": "python",
   "name": "python3"
  },
  "language_info": {
   "codemirror_mode": {
    "name": "ipython",
    "version": 3
   },
   "file_extension": ".py",
   "mimetype": "text/x-python",
   "name": "python",
   "nbconvert_exporter": "python",
   "pygments_lexer": "ipython3",
   "version": "3.9.12"
  }
 },
 "nbformat": 4,
 "nbformat_minor": 5
}
