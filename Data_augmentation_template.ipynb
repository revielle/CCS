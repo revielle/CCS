{
 "cells": [
  {
   "cell_type": "markdown",
   "id": "77c9bc7a",
   "metadata": {},
   "source": [
    "## Data augmentation"
   ]
  },
  {
   "cell_type": "code",
   "execution_count": 29,
   "id": "34efbd33",
   "metadata": {},
   "outputs": [],
   "source": [
    "import cv2\n",
    "from keras.preprocessing.image import ImageDataGenerator"
   ]
  },
  {
   "cell_type": "code",
   "execution_count": 109,
   "id": "dce10b50",
   "metadata": {},
   "outputs": [],
   "source": [
    "img = cv2.imread('library_9.jpg')\n",
    "img = cv2.cvtColor(img, cv2.COLOR_BGR2RGB)\n",
    "img_array = img.reshape((1, ) + img.shape)"
   ]
  },
  {
   "cell_type": "code",
   "execution_count": 110,
   "id": "500daca2",
   "metadata": {},
   "outputs": [
    {
     "data": {
      "text/plain": [
       "(1, 256, 256, 3)"
      ]
     },
     "execution_count": 110,
     "metadata": {},
     "output_type": "execute_result"
    }
   ],
   "source": [
    "img_array.shape"
   ]
  },
  {
   "cell_type": "code",
   "execution_count": 111,
   "id": "09e82d45",
   "metadata": {},
   "outputs": [],
   "source": [
    "data_aug = ImageDataGenerator(\n",
    "    #shear_range = 0.2, \n",
    "    #width_shift_range=0.2, \n",
    "    #rotation_range = 10,\n",
    "    rescale=1./255,\n",
    "    height_shift_range = 0.2,\n",
    "    featurewise_center=True,\n",
    "    #channel_shift_range= 0.20,\n",
    "    featurewise_std_normalization=True,\n",
    "    zoom_range = 0.4,\n",
    "    horizontal_flip = True,\n",
    "    fill_mode='reflect',\n",
    ")"
   ]
  },
  {
   "cell_type": "code",
   "execution_count": 112,
   "id": "888f493e",
   "metadata": {},
   "outputs": [],
   "source": [
    "i = 0\n",
    "for batch in data_aug.flow(img_array, save_to_dir='data_aug_dir', save_prefix='l', save_format='jpg'):\n",
    "    i += 1\n",
    "    if i > 20:\n",
    "        break"
   ]
  }
 ],
 "metadata": {
  "kernelspec": {
   "display_name": "Python 3 (ipykernel)",
   "language": "python",
   "name": "python3"
  },
  "language_info": {
   "codemirror_mode": {
    "name": "ipython",
    "version": 3
   },
   "file_extension": ".py",
   "mimetype": "text/x-python",
   "name": "python",
   "nbconvert_exporter": "python",
   "pygments_lexer": "ipython3",
   "version": "3.9.12"
  }
 },
 "nbformat": 4,
 "nbformat_minor": 5
}
