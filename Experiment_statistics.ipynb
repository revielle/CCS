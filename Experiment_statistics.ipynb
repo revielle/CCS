{
 "cells": [
  {
   "cell_type": "code",
   "execution_count": 9,
   "id": "090588bf",
   "metadata": {},
   "outputs": [],
   "source": [
    "import pandas as pd\n",
    "import numpy as np\n",
    "import matplotlib.pyplot as plt\n",
    "import seaborn as sns\n",
    "import scipy.stats as stats"
   ]
  },
  {
   "cell_type": "code",
   "execution_count": 2,
   "id": "f6aa687f",
   "metadata": {},
   "outputs": [],
   "source": [
    "data_all= pd.read_excel('datasets/data-all-image.xlsx')\n",
    "data_all_text= pd.read_excel('datasets/data-all-Text.xlsx')\n",
    "img_sum = pd.read_excel('datasets/Image-data-summary.xlsx')\n",
    "text_sum = pd.read_excel('datasets/Text-data-summary.xlsx')\n",
    "ti = pd.read_excel('datasets/Text_image.xlsx')"
   ]
  },
  {
   "cell_type": "code",
   "execution_count": 100,
   "id": "b2cbbca1",
   "metadata": {},
   "outputs": [],
   "source": [
    "data = pd.read_excel('datasets/data.xlsx')"
   ]
  },
  {
   "cell_type": "markdown",
   "id": "a82e0e0b",
   "metadata": {},
   "source": [
    "#### T-test statistics for checking differences in group performances:"
   ]
  },
  {
   "cell_type": "code",
   "execution_count": 173,
   "id": "530a8cca",
   "metadata": {},
   "outputs": [
    {
     "data": {
      "text/html": [
       "<div>\n",
       "<style scoped>\n",
       "    .dataframe tbody tr th:only-of-type {\n",
       "        vertical-align: middle;\n",
       "    }\n",
       "\n",
       "    .dataframe tbody tr th {\n",
       "        vertical-align: top;\n",
       "    }\n",
       "\n",
       "    .dataframe thead th {\n",
       "        text-align: right;\n",
       "    }\n",
       "</style>\n",
       "<table border=\"1\" class=\"dataframe\">\n",
       "  <thead>\n",
       "    <tr style=\"text-align: right;\">\n",
       "      <th></th>\n",
       "      <th>Experiment Version</th>\n",
       "      <th>Task Name</th>\n",
       "      <th>Reaction Time</th>\n",
       "      <th>Response</th>\n",
       "      <th>AudioStimuli</th>\n",
       "    </tr>\n",
       "  </thead>\n",
       "  <tbody>\n",
       "    <tr>\n",
       "      <th>0</th>\n",
       "      <td>6</td>\n",
       "      <td>Audio image Task</td>\n",
       "      <td>33200.7</td>\n",
       "      <td>example office.jpg</td>\n",
       "      <td>library_6.wav</td>\n",
       "    </tr>\n",
       "    <tr>\n",
       "      <th>1</th>\n",
       "      <td>6</td>\n",
       "      <td>Audio image Task</td>\n",
       "      <td>11773.0</td>\n",
       "      <td>example metro.jpg</td>\n",
       "      <td>subway_1.wav</td>\n",
       "    </tr>\n",
       "    <tr>\n",
       "      <th>2</th>\n",
       "      <td>6</td>\n",
       "      <td>Audio image Task</td>\n",
       "      <td>28974.7</td>\n",
       "      <td>example resturant.jpeg</td>\n",
       "      <td>store_1.wav</td>\n",
       "    </tr>\n",
       "    <tr>\n",
       "      <th>3</th>\n",
       "      <td>6</td>\n",
       "      <td>Audio image Task</td>\n",
       "      <td>3051.3</td>\n",
       "      <td>example office.jpg</td>\n",
       "      <td>office_9.wav</td>\n",
       "    </tr>\n",
       "    <tr>\n",
       "      <th>4</th>\n",
       "      <td>6</td>\n",
       "      <td>Audio image Task</td>\n",
       "      <td>7479.8</td>\n",
       "      <td>example store.jpg</td>\n",
       "      <td>restaurant_0.wav</td>\n",
       "    </tr>\n",
       "    <tr>\n",
       "      <th>...</th>\n",
       "      <td>...</td>\n",
       "      <td>...</td>\n",
       "      <td>...</td>\n",
       "      <td>...</td>\n",
       "      <td>...</td>\n",
       "    </tr>\n",
       "    <tr>\n",
       "      <th>595</th>\n",
       "      <td>7</td>\n",
       "      <td>Audio image Task</td>\n",
       "      <td>15439.1</td>\n",
       "      <td>example store.jpg</td>\n",
       "      <td>subway_8.wav</td>\n",
       "    </tr>\n",
       "    <tr>\n",
       "      <th>596</th>\n",
       "      <td>7</td>\n",
       "      <td>Audio image Task</td>\n",
       "      <td>10595.7</td>\n",
       "      <td>example library.jpg</td>\n",
       "      <td>library_3.wav</td>\n",
       "    </tr>\n",
       "    <tr>\n",
       "      <th>597</th>\n",
       "      <td>7</td>\n",
       "      <td>Audio image Task</td>\n",
       "      <td>4521.5</td>\n",
       "      <td>example resturant.jpeg</td>\n",
       "      <td>restaurant_8.wav</td>\n",
       "    </tr>\n",
       "    <tr>\n",
       "      <th>598</th>\n",
       "      <td>7</td>\n",
       "      <td>Audio image Task</td>\n",
       "      <td>2676.8</td>\n",
       "      <td>example metro.jpg</td>\n",
       "      <td>subway_2.wav</td>\n",
       "    </tr>\n",
       "    <tr>\n",
       "      <th>599</th>\n",
       "      <td>7</td>\n",
       "      <td>Audio image Task</td>\n",
       "      <td>22568.1</td>\n",
       "      <td>example store.jpg</td>\n",
       "      <td>store_5.wav</td>\n",
       "    </tr>\n",
       "  </tbody>\n",
       "</table>\n",
       "<p>600 rows × 5 columns</p>\n",
       "</div>"
      ],
      "text/plain": [
       "     Experiment Version         Task Name  Reaction Time  \\\n",
       "0                     6  Audio image Task        33200.7   \n",
       "1                     6  Audio image Task        11773.0   \n",
       "2                     6  Audio image Task        28974.7   \n",
       "3                     6  Audio image Task         3051.3   \n",
       "4                     6  Audio image Task         7479.8   \n",
       "..                  ...               ...            ...   \n",
       "595                   7  Audio image Task        15439.1   \n",
       "596                   7  Audio image Task        10595.7   \n",
       "597                   7  Audio image Task         4521.5   \n",
       "598                   7  Audio image Task         2676.8   \n",
       "599                   7  Audio image Task        22568.1   \n",
       "\n",
       "                   Response      AudioStimuli  \n",
       "0        example office.jpg     library_6.wav  \n",
       "1         example metro.jpg      subway_1.wav  \n",
       "2    example resturant.jpeg       store_1.wav  \n",
       "3        example office.jpg      office_9.wav  \n",
       "4         example store.jpg  restaurant_0.wav  \n",
       "..                      ...               ...  \n",
       "595       example store.jpg      subway_8.wav  \n",
       "596     example library.jpg     library_3.wav  \n",
       "597  example resturant.jpeg  restaurant_8.wav  \n",
       "598       example metro.jpg      subway_2.wav  \n",
       "599       example store.jpg       store_5.wav  \n",
       "\n",
       "[600 rows x 5 columns]"
      ]
     },
     "execution_count": 173,
     "metadata": {},
     "output_type": "execute_result"
    }
   ],
   "source": [
    "data_all #image-audio dataset"
   ]
  },
  {
   "cell_type": "code",
   "execution_count": 165,
   "id": "f5b9cd09",
   "metadata": {},
   "outputs": [
    {
     "data": {
      "text/html": [
       "<div>\n",
       "<style scoped>\n",
       "    .dataframe tbody tr th:only-of-type {\n",
       "        vertical-align: middle;\n",
       "    }\n",
       "\n",
       "    .dataframe tbody tr th {\n",
       "        vertical-align: top;\n",
       "    }\n",
       "\n",
       "    .dataframe thead th {\n",
       "        text-align: right;\n",
       "    }\n",
       "</style>\n",
       "<table border=\"1\" class=\"dataframe\">\n",
       "  <thead>\n",
       "    <tr style=\"text-align: right;\">\n",
       "      <th></th>\n",
       "      <th>Experiment Version</th>\n",
       "      <th>Task Name</th>\n",
       "      <th>Reaction Time</th>\n",
       "      <th>Response</th>\n",
       "      <th>Audio</th>\n",
       "    </tr>\n",
       "  </thead>\n",
       "  <tbody>\n",
       "    <tr>\n",
       "      <th>0</th>\n",
       "      <td>3</td>\n",
       "      <td>Audio Text Task</td>\n",
       "      <td>13612.0</td>\n",
       "      <td>Cafe</td>\n",
       "      <td>home_6.wav</td>\n",
       "    </tr>\n",
       "    <tr>\n",
       "      <th>1</th>\n",
       "      <td>3</td>\n",
       "      <td>Audio Text Task</td>\n",
       "      <td>10917.0</td>\n",
       "      <td>Cafe</td>\n",
       "      <td>restaurant_4.wav</td>\n",
       "    </tr>\n",
       "    <tr>\n",
       "      <th>2</th>\n",
       "      <td>3</td>\n",
       "      <td>Audio Text Task</td>\n",
       "      <td>6269.0</td>\n",
       "      <td>Office</td>\n",
       "      <td>subway_5.wav</td>\n",
       "    </tr>\n",
       "    <tr>\n",
       "      <th>3</th>\n",
       "      <td>3</td>\n",
       "      <td>Audio Text Task</td>\n",
       "      <td>6801.0</td>\n",
       "      <td>Store</td>\n",
       "      <td>subway_7.wav</td>\n",
       "    </tr>\n",
       "    <tr>\n",
       "      <th>4</th>\n",
       "      <td>3</td>\n",
       "      <td>Audio Text Task</td>\n",
       "      <td>11771.0</td>\n",
       "      <td>Subway</td>\n",
       "      <td>subway_0.wav</td>\n",
       "    </tr>\n",
       "    <tr>\n",
       "      <th>...</th>\n",
       "      <td>...</td>\n",
       "      <td>...</td>\n",
       "      <td>...</td>\n",
       "      <td>...</td>\n",
       "      <td>...</td>\n",
       "    </tr>\n",
       "    <tr>\n",
       "      <th>595</th>\n",
       "      <td>2</td>\n",
       "      <td>Audio Text Task</td>\n",
       "      <td>6044.1</td>\n",
       "      <td>Office</td>\n",
       "      <td>library_0.wav</td>\n",
       "    </tr>\n",
       "    <tr>\n",
       "      <th>596</th>\n",
       "      <td>2</td>\n",
       "      <td>Audio Text Task</td>\n",
       "      <td>3580.6</td>\n",
       "      <td>Store</td>\n",
       "      <td>restaurant_1.wav</td>\n",
       "    </tr>\n",
       "    <tr>\n",
       "      <th>597</th>\n",
       "      <td>2</td>\n",
       "      <td>Audio Text Task</td>\n",
       "      <td>10568.1</td>\n",
       "      <td>Cafe</td>\n",
       "      <td>store_1.wav</td>\n",
       "    </tr>\n",
       "    <tr>\n",
       "      <th>598</th>\n",
       "      <td>2</td>\n",
       "      <td>Audio Text Task</td>\n",
       "      <td>3200.4</td>\n",
       "      <td>Subway</td>\n",
       "      <td>subway_4.wav</td>\n",
       "    </tr>\n",
       "    <tr>\n",
       "      <th>599</th>\n",
       "      <td>2</td>\n",
       "      <td>Audio Text Task</td>\n",
       "      <td>7774.5</td>\n",
       "      <td>Store</td>\n",
       "      <td>library_1.wav</td>\n",
       "    </tr>\n",
       "  </tbody>\n",
       "</table>\n",
       "<p>600 rows × 5 columns</p>\n",
       "</div>"
      ],
      "text/plain": [
       "     Experiment Version        Task Name  Reaction Time Response  \\\n",
       "0                     3  Audio Text Task        13612.0     Cafe   \n",
       "1                     3  Audio Text Task        10917.0     Cafe   \n",
       "2                     3  Audio Text Task         6269.0   Office   \n",
       "3                     3  Audio Text Task         6801.0    Store   \n",
       "4                     3  Audio Text Task        11771.0   Subway   \n",
       "..                  ...              ...            ...      ...   \n",
       "595                   2  Audio Text Task         6044.1   Office   \n",
       "596                   2  Audio Text Task         3580.6    Store   \n",
       "597                   2  Audio Text Task        10568.1     Cafe   \n",
       "598                   2  Audio Text Task         3200.4   Subway   \n",
       "599                   2  Audio Text Task         7774.5    Store   \n",
       "\n",
       "                Audio  \n",
       "0          home_6.wav  \n",
       "1    restaurant_4.wav  \n",
       "2        subway_5.wav  \n",
       "3        subway_7.wav  \n",
       "4        subway_0.wav  \n",
       "..                ...  \n",
       "595     library_0.wav  \n",
       "596  restaurant_1.wav  \n",
       "597       store_1.wav  \n",
       "598      subway_4.wav  \n",
       "599     library_1.wav  \n",
       "\n",
       "[600 rows x 5 columns]"
      ]
     },
     "execution_count": 165,
     "metadata": {},
     "output_type": "execute_result"
    }
   ],
   "source": [
    "data_all_text #test-audio dataset"
   ]
  },
  {
   "cell_type": "code",
   "execution_count": 142,
   "id": "b228367a",
   "metadata": {},
   "outputs": [
    {
     "data": {
      "text/html": [
       "<div>\n",
       "<style scoped>\n",
       "    .dataframe tbody tr th:only-of-type {\n",
       "        vertical-align: middle;\n",
       "    }\n",
       "\n",
       "    .dataframe tbody tr th {\n",
       "        vertical-align: top;\n",
       "    }\n",
       "\n",
       "    .dataframe thead th {\n",
       "        text-align: right;\n",
       "    }\n",
       "</style>\n",
       "<table border=\"1\" class=\"dataframe\">\n",
       "  <thead>\n",
       "    <tr style=\"text-align: right;\">\n",
       "      <th></th>\n",
       "      <th>correct</th>\n",
       "    </tr>\n",
       "    <tr>\n",
       "      <th>condition</th>\n",
       "      <th></th>\n",
       "    </tr>\n",
       "  </thead>\n",
       "  <tbody>\n",
       "    <tr>\n",
       "      <th>image</th>\n",
       "      <td>47.833333</td>\n",
       "    </tr>\n",
       "    <tr>\n",
       "      <th>text</th>\n",
       "      <td>46.666667</td>\n",
       "    </tr>\n",
       "  </tbody>\n",
       "</table>\n",
       "</div>"
      ],
      "text/plain": [
       "             correct\n",
       "condition           \n",
       "image      47.833333\n",
       "text       46.666667"
      ]
     },
     "execution_count": 142,
     "metadata": {},
     "output_type": "execute_result"
    }
   ],
   "source": [
    "mean = pd.DataFrame(data.groupby('condition')['correct'].mean())\n",
    "mean"
   ]
  },
  {
   "cell_type": "code",
   "execution_count": 123,
   "id": "4552e03e",
   "metadata": {},
   "outputs": [],
   "source": [
    "img = data[data['condition'] == 'image']\n",
    "txt = data[data['condition'] == 'text']"
   ]
  },
  {
   "cell_type": "code",
   "execution_count": 104,
   "id": "7d99444c",
   "metadata": {},
   "outputs": [],
   "source": [
    "cr = data.groupby('category')['correct'].mean()"
   ]
  },
  {
   "cell_type": "code",
   "execution_count": 119,
   "id": "29be56ef",
   "metadata": {},
   "outputs": [
    {
     "data": {
      "text/plain": [
       "category\n",
       "home          52.0\n",
       "library       43.0\n",
       "metro         54.5\n",
       "office        43.0\n",
       "restaurant    55.5\n",
       "store         35.5\n",
       "Name: correct, dtype: float64"
      ]
     },
     "execution_count": 119,
     "metadata": {},
     "output_type": "execute_result"
    }
   ],
   "source": [
    "cr"
   ]
  },
  {
   "cell_type": "code",
   "execution_count": 89,
   "id": "9c06eaef",
   "metadata": {},
   "outputs": [
    {
     "data": {
      "text/plain": [
       "category\n",
       "home         55.0\n",
       "library      46.0\n",
       "metro        61.0\n",
       "office       36.0\n",
       "resturant    58.0\n",
       "store        31.0\n",
       "Name: correct, dtype: float64"
      ]
     },
     "execution_count": 89,
     "metadata": {},
     "output_type": "execute_result"
    }
   ],
   "source": [
    "img.groupby('category')['correct'].mean()"
   ]
  },
  {
   "cell_type": "markdown",
   "id": "5fe6df74",
   "metadata": {},
   "source": [
    "### t-test:"
   ]
  },
  {
   "cell_type": "code",
   "execution_count": 149,
   "id": "40772261",
   "metadata": {},
   "outputs": [],
   "source": [
    "stat, p = stats.ttest_ind(img['correct'], txt['correct'])"
   ]
  },
  {
   "cell_type": "code",
   "execution_count": 150,
   "id": "0931f2dd",
   "metadata": {},
   "outputs": [
    {
     "name": "stdout",
     "output_type": "stream",
     "text": [
      "0.2127472860511991 0.8357983000262924\n"
     ]
    }
   ],
   "source": [
    "print(stat, p)"
   ]
  },
  {
   "cell_type": "markdown",
   "id": "720677a4",
   "metadata": {},
   "source": [
    "#### Reaction time:"
   ]
  },
  {
   "cell_type": "code",
   "execution_count": 162,
   "id": "7fda1050",
   "metadata": {},
   "outputs": [
    {
     "data": {
      "text/html": [
       "<div>\n",
       "<style scoped>\n",
       "    .dataframe tbody tr th:only-of-type {\n",
       "        vertical-align: middle;\n",
       "    }\n",
       "\n",
       "    .dataframe tbody tr th {\n",
       "        vertical-align: top;\n",
       "    }\n",
       "\n",
       "    .dataframe thead th {\n",
       "        text-align: right;\n",
       "    }\n",
       "</style>\n",
       "<table border=\"1\" class=\"dataframe\">\n",
       "  <thead>\n",
       "    <tr style=\"text-align: right;\">\n",
       "      <th></th>\n",
       "      <th>Reaction Time</th>\n",
       "    </tr>\n",
       "    <tr>\n",
       "      <th>Response</th>\n",
       "      <th></th>\n",
       "    </tr>\n",
       "  </thead>\n",
       "  <tbody>\n",
       "    <tr>\n",
       "      <th>Cafe</th>\n",
       "      <td>13674.439796</td>\n",
       "    </tr>\n",
       "    <tr>\n",
       "      <th>Kitchen</th>\n",
       "      <td>9798.363953</td>\n",
       "    </tr>\n",
       "    <tr>\n",
       "      <th>Library</th>\n",
       "      <td>13810.007143</td>\n",
       "    </tr>\n",
       "    <tr>\n",
       "      <th>Office</th>\n",
       "      <td>11570.521488</td>\n",
       "    </tr>\n",
       "    <tr>\n",
       "      <th>Store</th>\n",
       "      <td>14539.446429</td>\n",
       "    </tr>\n",
       "    <tr>\n",
       "      <th>Subway</th>\n",
       "      <td>10448.905882</td>\n",
       "    </tr>\n",
       "  </tbody>\n",
       "</table>\n",
       "</div>"
      ],
      "text/plain": [
       "          Reaction Time\n",
       "Response               \n",
       "Cafe       13674.439796\n",
       "Kitchen     9798.363953\n",
       "Library    13810.007143\n",
       "Office     11570.521488\n",
       "Store      14539.446429\n",
       "Subway     10448.905882"
      ]
     },
     "execution_count": 162,
     "metadata": {},
     "output_type": "execute_result"
    }
   ],
   "source": [
    "rtt = pd.DataFrame(data_all_text.groupby('Response')['Reaction Time'].mean())\n",
    "rtt"
   ]
  },
  {
   "cell_type": "code",
   "execution_count": 168,
   "id": "b390bad0",
   "metadata": {},
   "outputs": [
    {
     "data": {
      "text/html": [
       "<div>\n",
       "<style scoped>\n",
       "    .dataframe tbody tr th:only-of-type {\n",
       "        vertical-align: middle;\n",
       "    }\n",
       "\n",
       "    .dataframe tbody tr th {\n",
       "        vertical-align: top;\n",
       "    }\n",
       "\n",
       "    .dataframe thead th {\n",
       "        text-align: right;\n",
       "    }\n",
       "</style>\n",
       "<table border=\"1\" class=\"dataframe\">\n",
       "  <thead>\n",
       "    <tr style=\"text-align: right;\">\n",
       "      <th></th>\n",
       "      <th>Reaction Time</th>\n",
       "    </tr>\n",
       "    <tr>\n",
       "      <th>Response</th>\n",
       "      <th></th>\n",
       "    </tr>\n",
       "  </thead>\n",
       "  <tbody>\n",
       "    <tr>\n",
       "      <th>example home.png</th>\n",
       "      <td>11343.805660</td>\n",
       "    </tr>\n",
       "    <tr>\n",
       "      <th>example library.jpg</th>\n",
       "      <td>16457.506087</td>\n",
       "    </tr>\n",
       "    <tr>\n",
       "      <th>example metro.jpg</th>\n",
       "      <td>11660.678761</td>\n",
       "    </tr>\n",
       "    <tr>\n",
       "      <th>example office.jpg</th>\n",
       "      <td>12552.512121</td>\n",
       "    </tr>\n",
       "    <tr>\n",
       "      <th>example resturant.jpeg</th>\n",
       "      <td>11125.136842</td>\n",
       "    </tr>\n",
       "    <tr>\n",
       "      <th>example store.jpg</th>\n",
       "      <td>13117.913889</td>\n",
       "    </tr>\n",
       "  </tbody>\n",
       "</table>\n",
       "</div>"
      ],
      "text/plain": [
       "                        Reaction Time\n",
       "Response                             \n",
       "example home.png         11343.805660\n",
       "example library.jpg      16457.506087\n",
       "example metro.jpg        11660.678761\n",
       "example office.jpg       12552.512121\n",
       "example resturant.jpeg   11125.136842\n",
       "example store.jpg        13117.913889"
      ]
     },
     "execution_count": 168,
     "metadata": {},
     "output_type": "execute_result"
    }
   ],
   "source": [
    "rti = pd.DataFrame(data_all.groupby('Response')['Reaction Time'].mean())\n",
    "rti"
   ]
  },
  {
   "cell_type": "code",
   "execution_count": 169,
   "id": "d8a57ded",
   "metadata": {},
   "outputs": [],
   "source": [
    "stat, p = stats.ttest_ind(rti['Reaction Time'], rtt['Reaction Time'])"
   ]
  },
  {
   "cell_type": "code",
   "execution_count": 170,
   "id": "ab052242",
   "metadata": {},
   "outputs": [
    {
     "name": "stdout",
     "output_type": "stream",
     "text": [
      "0.3526221555132625 0.7316907735443172\n"
     ]
    }
   ],
   "source": [
    "print(stat, p)"
   ]
  },
  {
   "cell_type": "markdown",
   "id": "978dd5a2",
   "metadata": {},
   "source": [
    "#### mean reaction time for both groups:"
   ]
  },
  {
   "cell_type": "code",
   "execution_count": 171,
   "id": "16c1d0f0",
   "metadata": {},
   "outputs": [
    {
     "name": "stdout",
     "output_type": "stream",
     "text": [
      "12709.592226769162 12306.947448470833\n"
     ]
    }
   ],
   "source": [
    "print(rti['Reaction Time'].mean(), rtt['Reaction Time'].mean())"
   ]
  },
  {
   "cell_type": "code",
   "execution_count": 72,
   "id": "c882ee60",
   "metadata": {},
   "outputs": [],
   "source": [
    "cafe  = data_all[data_all['Response'] == 'Cafe']\n",
    "kitchen  = data_all[data_all['Response'] == 'Kitchen']\n",
    "store = data_all[data_all['Response'] == 'Store']\n",
    "subway = data_all[data_all['Response'] == 'Subway']\n",
    "library = data_all[data_all['Response'] == 'Library']\n",
    "office = data_all[data_all['Response'] == 'Office']"
   ]
  },
  {
   "cell_type": "code",
   "execution_count": 77,
   "id": "1ba48816",
   "metadata": {},
   "outputs": [
    {
     "data": {
      "text/plain": [
       "[<matplotlib.lines.Line2D at 0x1b43c12c3a0>]"
      ]
     },
     "execution_count": 77,
     "metadata": {},
     "output_type": "execute_result"
    },
    {
     "data": {
      "image/png": "[encoded data removed]",
      "text/plain": [
       "<Figure size 432x288 with 1 Axes>"
      ]
     },
     "metadata": {
      "needs_background": "light"
     },
     "output_type": "display_data"
    }
   ],
   "source": [
    "plt.plot(cafe['Reaction Time'])\n",
    "plt.plot(kitchen['Reaction Time'])\n",
    "plt.plot(store['Reaction Time'])\n",
    "plt.plot(subway['Reaction Time'])"
   ]
  }
 ],
 "metadata": {
  "kernelspec": {
   "display_name": "Python 3 (ipykernel)",
   "language": "python",
   "name": "python3"
  },
  "language_info": {
   "codemirror_mode": {
    "name": "ipython",
    "version": 3
   },
   "file_extension": ".py",
   "mimetype": "text/x-python",
   "name": "python",
   "nbconvert_exporter": "python",
   "pygments_lexer": "ipython3",
   "version": "3.9.12"
  }
 },
 "nbformat": 4,
 "nbformat_minor": 5
}
