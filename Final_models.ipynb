{
 "cells": [
  {
   "cell_type": "markdown",
   "id": "5c204330",
   "metadata": {},
   "source": [
    "# [Final] AUDIO classifier model"
   ]
  },
  {
   "cell_type": "code",
   "execution_count": 1,
   "id": "1277bc85",
   "metadata": {},
   "outputs": [],
   "source": [
    "#base libraries:\n",
    "import pandas as pd\n",
    "import numpy as np\n",
    "import matplotlib.pyplot as plt\n",
    "import seaborn as sns\n",
    "#for data loading:\n",
    "import os\n",
    "import glob\n",
    "#for preprocessing - augmentation:\n",
    "import tensorflow as tf\n",
    "import tensorflow_io as tfio\n",
    "from keras.utils import  to_categorical \n",
    "from keras.preprocessing.image import ImageDataGenerator\n",
    "#for model:\n",
    "from tensorflow.keras.models import Sequential \n",
    "from keras.callbacks import EarlyStopping\n",
    "from tensorflow.keras.layers import Conv2D, MaxPooling2D, Dense, Flatten, MaxPool2D, Dropout, LSTM, Input\n",
    "from keras.layers import BatchNormalization\n",
    "from keras.optimizers import Adam, RMSprop\n",
    "#for loading models:\n",
    "from keras.models import Model\n",
    "#custom weights:\n",
    "from tensorflow.keras.applications.mobilenet import preprocess_input\n",
    "from tensorflow.keras.applications import MobileNetV2\n",
    "from tensorflow.keras.applications.inception_v3 import InceptionV3\n",
    "#for evaluation:\n",
    "from sklearn.metrics import confusion_matrix"
   ]
  },
  {
   "cell_type": "markdown",
   "id": "e0dfa078",
   "metadata": {},
   "source": [
    "#### Function to load in audio files:"
   ]
  },
  {
   "cell_type": "code",
   "execution_count": 2,
   "id": "13aa1916",
   "metadata": {},
   "outputs": [],
   "source": [
    "def load_wav_data(x): #process audio to 16000Hz convert to single channel!:\n",
    "    file = tf.io.read_file(x)\n",
    "    #decode wav (tensors by channels):\n",
    "    wav, sample_rate = tf.audio.decode_wav(file, desired_channels=1)\n",
    "    #remove trailing axis:\n",
    "    wav = tf.squeeze(wav, axis=1)\n",
    "    sample_rate = tf.cast(sample_rate, dtype=tf.int64)\n",
    "    wav = tfio.audio.resample(wav, rate_in=sample_rate, rate_out=16000) #from 441000 to 16000Hz\n",
    "    return wav"
   ]
  },
  {
   "cell_type": "markdown",
   "id": "51b89920",
   "metadata": {},
   "source": [
    "## Audio preprocessing - Spectrogram:"
   ]
  },
  {
   "cell_type": "markdown",
   "id": "c09021cb",
   "metadata": {},
   "source": [
    "#### gain factor is used for amplification of the audio waveforms:"
   ]
  },
  {
   "cell_type": "code",
   "execution_count": 3,
   "id": "9bc2ff15",
   "metadata": {},
   "outputs": [],
   "source": [
    "def preprocess(file_path, label, gain_factor=1.5): \n",
    "    wav = load_wav_data(file_path)\n",
    "    wav = wav[:160000] #max length\n",
    "    wav = tf.concat([wav], 0)\n",
    "    wav = wav * gain_factor #amplification\n",
    "    #reduced frame length and increased step size for faster computation:\n",
    "    spectrogram = tf.signal.stft(wav, frame_length=256, frame_step=128) #320 #32\n",
    "    spectrogram = tf.abs(spectrogram) #get rid of negatives\n",
    "    spectrogram = tf.expand_dims(spectrogram, axis=2) #gray scale image\n",
    "    return spectrogram, label"
   ]
  },
  {
   "cell_type": "markdown",
   "id": "4ddccef0",
   "metadata": {},
   "source": [
    "### load  audio test files:"
   ]
  },
  {
   "cell_type": "code",
   "execution_count": 4,
   "id": "3406173e",
   "metadata": {},
   "outputs": [],
   "source": [
    "home_2 = tf.data.Dataset.list_files('AUDIO/home'+'\\*.wav') #312 files\n",
    "office_2 = tf.data.Dataset.list_files('AUDIO/office'+'\\*.wav')\n",
    "store_2 = tf.data.Dataset.list_files('AUDIO/store'+'\\*.wav')\n",
    "restaurant_2 = tf.data.Dataset.list_files('AUDIO/restaurant'+'\\*.wav')\n",
    "library_2 = tf.data.Dataset.list_files('AUDIO/library'+'\\*.wav')\n",
    "subway_2 = tf.data.Dataset.list_files('AUDIO/subway'+'\\*.wav')"
   ]
  },
  {
   "cell_type": "code",
   "execution_count": 5,
   "id": "84b7be18",
   "metadata": {},
   "outputs": [],
   "source": [
    "lib_array_2 = tf.constant(2.0, dtype='float32', shape=10) \n",
    "res_array_2 = tf.constant(3.0, dtype='float32', shape=10)\n",
    "sto_array_2 = tf.constant(4.0, dtype='float32', shape=10)\n",
    "sub_array_2 = tf.constant(5.0, dtype='float32', shape=10)\n",
    "\n",
    "lib_2 = tf.data.Dataset.zip((library_2, tf.data.Dataset.from_tensor_slices(lib_array_2)))\n",
    "res_2 = tf.data.Dataset.zip((restaurant_2, tf.data.Dataset.from_tensor_slices(res_array_2)))\n",
    "sto_2 = tf.data.Dataset.zip((store_2, tf.data.Dataset.from_tensor_slices(sto_array_2)))\n",
    "sub_2 = tf.data.Dataset.zip((subway_2, tf.data.Dataset.from_tensor_slices(sub_array_2)))\n",
    "home_3 = tf.data.Dataset.zip((home_2, tf.data.Dataset.from_tensor_slices(tf.zeros(len(home_2)))))\n",
    "office_3 = tf.data.Dataset.zip((office_2, tf.data.Dataset.from_tensor_slices(tf.ones(len(office_2)))))\n",
    "\n",
    "audio_data_test = home_3.concatenate(office_3).concatenate(lib_2).concatenate(res_2).concatenate(sto_2).concatenate(sub_2)"
   ]
  },
  {
   "cell_type": "code",
   "execution_count": 6,
   "id": "7b62ad63",
   "metadata": {},
   "outputs": [
    {
     "name": "stdout",
     "output_type": "stream",
     "text": [
      "WARNING:tensorflow:From C:\\Users\\revie\\anaconda3\\lib\\site-packages\\tensorflow\\python\\autograph\\pyct\\static_analysis\\liveness.py:83: Analyzer.lamba_check (from tensorflow.python.autograph.pyct.static_analysis.liveness) is deprecated and will be removed after 2023-09-23.\n",
      "Instructions for updating:\n",
      "Lambda fuctions will be no more assumed to be used in the statement where they are used, or at least in the same block. https://github.com/tensorflow/tensorflow/issues/56089\n",
      "WARNING:tensorflow:Using a while_loop for converting IO>AudioResample cause there is no registered converter for this op.\n"
     ]
    }
   ],
   "source": [
    "audio_data_test = audio_data_test.map(preprocess)\n",
    "audio_data_test = audio_data_test.cache()\n",
    "audio_data_test = audio_data_test.shuffle(buffer_size=1000)\n",
    "audio_data_test = audio_data_test.batch(16)\n",
    "audio_data_test = audio_data_test.prefetch(8)"
   ]
  },
  {
   "cell_type": "markdown",
   "id": "4964b879",
   "metadata": {},
   "source": [
    "### loading train+validation sets:"
   ]
  },
  {
   "cell_type": "markdown",
   "id": "b1681488",
   "metadata": {},
   "source": [
    "take random 100 audio:"
   ]
  },
  {
   "cell_type": "code",
   "execution_count": 7,
   "id": "3777b07a",
   "metadata": {},
   "outputs": [],
   "source": [
    "home = tf.data.Dataset.list_files('AUDIO_ALL/home'+'\\*.wav').shuffle(1000).take(100)  #312 files\n",
    "office = tf.data.Dataset.list_files('AUDIO_ALL/office'+'\\*.wav').shuffle(1000).take(100) \n",
    "store = tf.data.Dataset.list_files('AUDIO_ALL/store'+'\\*.wav').shuffle(1000).take(100) \n",
    "restaurant = tf.data.Dataset.list_files('AUDIO_ALL/restaurant'+'\\*.wav').shuffle(1000).take(100) \n",
    "library = tf.data.Dataset.list_files('AUDIO_ALL/library'+'\\*.wav').shuffle(1000).take(100) \n",
    "subway = tf.data.Dataset.list_files('AUDIO_ALL/subway'+'\\*.wav').shuffle(1000).take(100) "
   ]
  },
  {
   "cell_type": "markdown",
   "id": "10911f80",
   "metadata": {},
   "source": [
    "create labels:"
   ]
  },
  {
   "cell_type": "code",
   "execution_count": 8,
   "id": "cf1a5cbc",
   "metadata": {},
   "outputs": [],
   "source": [
    "lib_array = tf.constant(2.0, dtype='float32', shape=100) \n",
    "res_array = tf.constant(3.0, dtype='float32', shape=100)\n",
    "sto_array = tf.constant(4.0, dtype='float32', shape=100)\n",
    "sub_array = tf.constant(5.0, dtype='float32', shape=100)\n",
    "\n",
    "lib = tf.data.Dataset.zip((library, tf.data.Dataset.from_tensor_slices(lib_array)))\n",
    "res = tf.data.Dataset.zip((restaurant, tf.data.Dataset.from_tensor_slices(res_array)))\n",
    "sto = tf.data.Dataset.zip((store, tf.data.Dataset.from_tensor_slices(sto_array)))\n",
    "sub = tf.data.Dataset.zip((subway, tf.data.Dataset.from_tensor_slices(sub_array)))\n",
    "home_4 = tf.data.Dataset.zip((home, tf.data.Dataset.from_tensor_slices(tf.zeros(len(home)))))\n",
    "office_4 = tf.data.Dataset.zip((office, tf.data.Dataset.from_tensor_slices(tf.ones(len(office)))))\n",
    "\n",
    "audio_data = home_4.concatenate(office_4).concatenate(lib).concatenate(res).concatenate(sto).concatenate(sub)"
   ]
  },
  {
   "cell_type": "code",
   "execution_count": 9,
   "id": "cb1739d8",
   "metadata": {},
   "outputs": [
    {
     "name": "stdout",
     "output_type": "stream",
     "text": [
      "WARNING:tensorflow:Using a while_loop for converting IO>AudioResample cause there is no registered converter for this op.\n"
     ]
    }
   ],
   "source": [
    "audio_data = audio_data.map(preprocess)\n",
    "audio_data = audio_data.cache()\n",
    "audio_data = audio_data.shuffle(buffer_size=1000)\n",
    "audio_data = audio_data.batch(16)\n",
    "audio_data = audio_data.prefetch(8)"
   ]
  },
  {
   "cell_type": "markdown",
   "id": "3bcbbf70",
   "metadata": {},
   "source": [
    "#### Split into train+validation sets:"
   ]
  },
  {
   "cell_type": "code",
   "execution_count": 10,
   "id": "484c99c9",
   "metadata": {},
   "outputs": [],
   "source": [
    "train_size = int(len(audio_data)*.8) \n",
    "val_size = int(len(audio_data)*.2)  "
   ]
  },
  {
   "cell_type": "code",
   "execution_count": 11,
   "id": "81828065",
   "metadata": {},
   "outputs": [
    {
     "name": "stdout",
     "output_type": "stream",
     "text": [
      "30 7\n"
     ]
    }
   ],
   "source": [
    "print(train_size, val_size) #train and validation batch sizes:"
   ]
  },
  {
   "cell_type": "code",
   "execution_count": 12,
   "id": "53c7c685",
   "metadata": {},
   "outputs": [],
   "source": [
    "audio_train = audio_data.take(train_size) #define how much data we take - batch size ofc.\n",
    "audio_val = audio_data.skip(train_size).take(val_size)"
   ]
  },
  {
   "cell_type": "markdown",
   "id": "a2b42b9d",
   "metadata": {},
   "source": [
    "#### OneHotencoding for the labels:"
   ]
  },
  {
   "cell_type": "code",
   "execution_count": 13,
   "id": "c3e877fa",
   "metadata": {},
   "outputs": [],
   "source": [
    "audio_Y_train = np.concatenate([y for x, y in audio_train], axis=0)\n",
    "audio_X_train = np.concatenate([x for x, y in audio_train], axis=0)\n",
    "\n",
    "audio_Y_val = np.concatenate([y for x, y in audio_val], axis=0)\n",
    "audio_X_val = np.concatenate([x for x, y in audio_val], axis=0)\n",
    "\n",
    "audio_Y_test2 = np.concatenate([y for x, y in audio_data_test], axis=0)\n",
    "audio_X_test2 = np.concatenate([x for x, y in audio_data_test], axis=0)"
   ]
  },
  {
   "cell_type": "code",
   "execution_count": 14,
   "id": "efc436ad",
   "metadata": {},
   "outputs": [
    {
     "data": {
      "text/plain": [
       "(16, 1249, 129, 1)"
      ]
     },
     "execution_count": 14,
     "metadata": {},
     "output_type": "execute_result"
    }
   ],
   "source": [
    "#samples, labels = audio_val.as_numpy_iterator().next()\n",
    "#samples.shape"
   ]
  },
  {
   "cell_type": "code",
   "execution_count": 15,
   "id": "abb13c56",
   "metadata": {},
   "outputs": [],
   "source": [
    "audio_Y_train_cat = to_categorical(audio_Y_train)\n",
    "audio_Y_val_cat = to_categorical(audio_Y_val)\n",
    "audio_Y_test2_cat = to_categorical(audio_Y_test2)"
   ]
  },
  {
   "cell_type": "markdown",
   "id": "ce9eb803",
   "metadata": {},
   "source": [
    "## data augmentation: "
   ]
  },
  {
   "cell_type": "code",
   "execution_count": 16,
   "id": "879bb69e",
   "metadata": {},
   "outputs": [],
   "source": [
    "audio_train_datagen = ImageDataGenerator(\n",
    ")\n",
    "audio_train_datagen.fit(audio_X_train)\n",
    "\n",
    "audio_train_generator = audio_train_datagen.flow(\n",
    "    audio_X_train,\n",
    "    audio_Y_train_cat,\n",
    "    batch_size = 16)"
   ]
  },
  {
   "cell_type": "markdown",
   "id": "49f210e8",
   "metadata": {},
   "source": [
    "#### for validation + test:"
   ]
  },
  {
   "cell_type": "code",
   "execution_count": 17,
   "id": "59181b83",
   "metadata": {},
   "outputs": [],
   "source": [
    "audio_val_generator = ImageDataGenerator().flow(\n",
    "    audio_X_val,\n",
    "    audio_Y_val_cat,\n",
    "    batch_size = 16)"
   ]
  },
  {
   "cell_type": "code",
   "execution_count": 19,
   "id": "f5ff71b6",
   "metadata": {},
   "outputs": [],
   "source": [
    "audio_test_generator2 = ImageDataGenerator().flow(\n",
    "    audio_X_test2,\n",
    "    audio_Y_test2_cat,\n",
    "    batch_size = 8)"
   ]
  },
  {
   "cell_type": "markdown",
   "id": "932a1988",
   "metadata": {},
   "source": [
    "# AUDIO-classification model:"
   ]
  },
  {
   "cell_type": "code",
   "execution_count": 22,
   "id": "81007536",
   "metadata": {},
   "outputs": [],
   "source": [
    "model = Sequential()\n",
    "model.add(Conv2D(128, (3,3), activation='relu', input_shape=(1249, 129, 1))) #4991 #2491\n",
    "model.add(tf.keras.layers.MaxPool2D(pool_size=2, strides=2))\n",
    "\n",
    "model.add(Conv2D(64, (3,3), activation='relu'))\n",
    "model.add(tf.keras.layers.MaxPool2D(pool_size=2, strides=2))\n",
    "model.add(BatchNormalization())\n",
    "model.add(Dropout(rate=0.2))\n",
    "\n",
    "model.add(Conv2D(32, (3,3), activation='relu'))\n",
    "model.add(tf.keras.layers.MaxPool2D(pool_size=2, strides=2))\n",
    "model.add(BatchNormalization())\n",
    "\n",
    "model.add(Conv2D(16, (3,3), activation='relu'))\n",
    "model.add(tf.keras.layers.MaxPool2D(pool_size=2, strides=2))\n",
    "model.add(BatchNormalization())\n",
    "\n",
    "model.add(Flatten())\n",
    "model.add(Dropout(rate=0.2))\n",
    "model.add(Dense(256, activation='relu'))\n",
    "model.add(Dense(6, activation='softmax'))"
   ]
  },
  {
   "cell_type": "markdown",
   "id": "6ea5fc88",
   "metadata": {},
   "source": [
    "## model summary:"
   ]
  },
  {
   "cell_type": "code",
   "execution_count": 23,
   "id": "e765be88",
   "metadata": {},
   "outputs": [
    {
     "name": "stdout",
     "output_type": "stream",
     "text": [
      "Model: \"sequential_1\"\n",
      "_________________________________________________________________\n",
      " Layer (type)                Output Shape              Param #   \n",
      "=================================================================\n",
      " conv2d_4 (Conv2D)           (None, 1247, 127, 128)    1280      \n",
      "                                                                 \n",
      " max_pooling2d_4 (MaxPooling  (None, 623, 63, 128)     0         \n",
      " 2D)                                                             \n",
      "                                                                 \n",
      " conv2d_5 (Conv2D)           (None, 621, 61, 64)       73792     \n",
      "                                                                 \n",
      " max_pooling2d_5 (MaxPooling  (None, 310, 30, 64)      0         \n",
      " 2D)                                                             \n",
      "                                                                 \n",
      " batch_normalization (BatchN  (None, 310, 30, 64)      256       \n",
      " ormalization)                                                   \n",
      "                                                                 \n",
      " dropout_1 (Dropout)         (None, 310, 30, 64)       0         \n",
      "                                                                 \n",
      " conv2d_6 (Conv2D)           (None, 308, 28, 32)       18464     \n",
      "                                                                 \n",
      " max_pooling2d_6 (MaxPooling  (None, 154, 14, 32)      0         \n",
      " 2D)                                                             \n",
      "                                                                 \n",
      " batch_normalization_1 (Batc  (None, 154, 14, 32)      128       \n",
      " hNormalization)                                                 \n",
      "                                                                 \n",
      " conv2d_7 (Conv2D)           (None, 152, 12, 16)       4624      \n",
      "                                                                 \n",
      " max_pooling2d_7 (MaxPooling  (None, 76, 6, 16)        0         \n",
      " 2D)                                                             \n",
      "                                                                 \n",
      " batch_normalization_2 (Batc  (None, 76, 6, 16)        64        \n",
      " hNormalization)                                                 \n",
      "                                                                 \n",
      " flatten_1 (Flatten)         (None, 7296)              0         \n",
      "                                                                 \n",
      " dropout_2 (Dropout)         (None, 7296)              0         \n",
      "                                                                 \n",
      " dense_2 (Dense)             (None, 256)               1868032   \n",
      "                                                                 \n",
      " dense_3 (Dense)             (None, 6)                 1542      \n",
      "                                                                 \n",
      "=================================================================\n",
      "Total params: 1,968,182\n",
      "Trainable params: 1,967,958\n",
      "Non-trainable params: 224\n",
      "_________________________________________________________________\n"
     ]
    }
   ],
   "source": [
    "model.compile('Adam', loss='categorical_crossentropy',  metrics=['accuracy'])\n",
    "model.summary()"
   ]
  },
  {
   "cell_type": "markdown",
   "id": "ad3ba67e",
   "metadata": {},
   "source": [
    "### early stopping:"
   ]
  },
  {
   "cell_type": "code",
   "execution_count": 39,
   "id": "89d0f1c0",
   "metadata": {},
   "outputs": [],
   "source": [
    "class myCallback(tf.keras.callbacks.Callback):\n",
    "    def on_epoch_end(self, epoch, logs={}):\n",
    "        if (logs.get('accuracy')>0.95):\n",
    "            print('\\nReached 95+%, so canceling training')\n",
    "            self.model.stop_training = True"
   ]
  },
  {
   "cell_type": "code",
   "execution_count": null,
   "id": "6745bf3e",
   "metadata": {},
   "outputs": [],
   "source": [
    "hist = model.fit(audio_train_generator, epochs=20, \n",
    "                  validation_data=audio_val_generator,  #step size is 30\n",
    "                  callbacks=myCallback())"
   ]
  },
  {
   "cell_type": "markdown",
   "id": "dcde6bad",
   "metadata": {},
   "source": [
    "## model evaluation:"
   ]
  },
  {
   "cell_type": "markdown",
   "id": "5630c359",
   "metadata": {},
   "source": [
    "#### plot accuracy + loss:"
   ]
  },
  {
   "cell_type": "code",
   "execution_count": 26,
   "id": "dacff2d6",
   "metadata": {},
   "outputs": [
    {
     "data": {
      "image/png": "[encoded data removed]",
      "text/plain": [
       "<Figure size 432x288 with 1 Axes>"
      ]
     },
     "metadata": {
      "needs_background": "light"
     },
     "output_type": "display_data"
    }
   ],
   "source": [
    "plt.title('Loss')\n",
    "plt.plot(hist.history['loss'], 'r')\n",
    "plt.plot(hist.history['val_loss'], 'b')\n",
    "plt.show()"
   ]
  },
  {
   "cell_type": "code",
   "execution_count": 27,
   "id": "80bea0f1",
   "metadata": {},
   "outputs": [
    {
     "data": {
      "image/png": "[encoded data removed]",
      "text/plain": [
       "<Figure size 432x288 with 1 Axes>"
      ]
     },
     "metadata": {
      "needs_background": "light"
     },
     "output_type": "display_data"
    }
   ],
   "source": [
    "plt.title('Accuracy')\n",
    "plt.plot(hist.history['accuracy'], 'r')\n",
    "plt.plot(hist.history['val_accuracy'], 'b')\n",
    "plt.show()"
   ]
  },
  {
   "cell_type": "code",
   "execution_count": 28,
   "id": "19f4812b",
   "metadata": {},
   "outputs": [
    {
     "name": "stderr",
     "output_type": "stream",
     "text": [
      "C:\\Users\\revie\\AppData\\Local\\Temp\\ipykernel_14840\\3492524436.py:1: UserWarning: `Model.evaluate_generator` is deprecated and will be removed in a future version. Please use `Model.evaluate`, which supports generators.\n",
      "  model.evaluate_generator(generator=audio_test_generator2)\n"
     ]
    },
    {
     "data": {
      "text/plain": [
       "[5.160716533660889, 0.20000000298023224]"
      ]
     },
     "execution_count": 28,
     "metadata": {},
     "output_type": "execute_result"
    }
   ],
   "source": [
    "model.evaluate_generator(generator=audio_test_generator2)"
   ]
  },
  {
   "cell_type": "markdown",
   "id": "bc1d58b2",
   "metadata": {},
   "source": [
    "We can see through model training that 2 categories it  struggles the most with are office and store."
   ]
  },
  {
   "cell_type": "markdown",
   "id": "1048b8b4",
   "metadata": {},
   "source": [
    "#### save model:"
   ]
  },
  {
   "cell_type": "code",
   "execution_count": 30,
   "id": "8e24b29c",
   "metadata": {},
   "outputs": [],
   "source": [
    "model.save('models/AudioClass_2048.h5')"
   ]
  },
  {
   "cell_type": "markdown",
   "id": "73b05148",
   "metadata": {},
   "source": [
    "#### load model:"
   ]
  },
  {
   "cell_type": "code",
   "execution_count": null,
   "id": "a07f1fcb",
   "metadata": {},
   "outputs": [],
   "source": [
    "#model = tf.keras.models.load_model('AudioClass_537.h5')"
   ]
  },
  {
   "cell_type": "markdown",
   "id": "1613d80e",
   "metadata": {},
   "source": [
    "#### confusion matrix (test):"
   ]
  },
  {
   "cell_type": "code",
   "execution_count": null,
   "id": "a9b2ca49",
   "metadata": {},
   "outputs": [],
   "source": [
    "#for white background.. but nod needed if you save the plot!\n",
    "#import matplotlib.style\n",
    "#import matplotlib as mpl\n",
    "#mpl.style.use('classic')"
   ]
  },
  {
   "cell_type": "code",
   "execution_count": null,
   "id": "9d3a8140",
   "metadata": {},
   "outputs": [],
   "source": [
    "test_pred = model.predict(audio_X_test2)\n",
    "test_predicted = np.argmax(test_pred, axis = 1)\n",
    "test_true = np.argmax(audio_Y_test2_cat, axis = 1)\n",
    "confmx = confusion_matrix(test_predicted, test_true)\n",
    "f, ax = plt.subplots(figsize = (8,8))\n",
    "sns.heatmap(confmx, annot=True, fmt='.1f', ax = ax, cmap='Blues')\n",
    "#set title + labels:\n",
    "plt.xlabel('Predicted Labels')\n",
    "plt.ylabel('True Labels')\n",
    "plt.title('Confusion Matrix of the Audio Classifier model')\n",
    "#set tick labels:\n",
    "labels = ['home', 'library', 'office', 'cafe', 'store', 'metro']\n",
    "ax.set_xticklabels(labels)\n",
    "ax.set_yticklabels(labels)\n",
    "plt.savefig('CF_audio_model.jpg')\n",
    "plt.show();"
   ]
  },
  {
   "cell_type": "markdown",
   "id": "f4e3478b",
   "metadata": {},
   "source": [
    "# PART 2."
   ]
  },
  {
   "cell_type": "markdown",
   "id": "cf577a56",
   "metadata": {},
   "source": [
    "# AUDIO-IMAGE [FUSED] Model:"
   ]
  },
  {
   "cell_type": "markdown",
   "id": "f91ec228",
   "metadata": {},
   "source": [
    "#### load in test images:"
   ]
  },
  {
   "cell_type": "code",
   "execution_count": 22,
   "id": "5d91ccb6",
   "metadata": {
    "collapsed": true
   },
   "outputs": [
    {
     "name": "stdout",
     "output_type": "stream",
     "text": [
      "Found 60 files belonging to 6 classes.\n"
     ]
    },
    {
     "data": {
      "text/plain": [
       "(array([[[[0.0699664 , 0.0699664 , 0.0699664 ],\n",
       "          [0.06592288, 0.06592288, 0.06592288],\n",
       "          [0.08549721, 0.08549721, 0.08549721],\n",
       "          ...,\n",
       "          [0.05305631, 0.05305631, 0.05305631],\n",
       "          [0.07419619, 0.07419619, 0.07419619],\n",
       "          [0.0715353 , 0.0715353 , 0.0715353 ]],\n",
       " \n",
       "         [[0.07041805, 0.07041805, 0.07041805],\n",
       "          [0.07490557, 0.07490557, 0.07490557],\n",
       "          [0.08921012, 0.08921012, 0.08921012],\n",
       "          ...,\n",
       "          [0.0549472 , 0.0549472 , 0.0549472 ],\n",
       "          [0.06582414, 0.06582414, 0.06582414],\n",
       "          [0.0638025 , 0.0638025 , 0.0638025 ]],\n",
       " \n",
       "         [[0.05048439, 0.05048439, 0.05048439],\n",
       "          [0.07583906, 0.07583906, 0.07583906],\n",
       "          [0.07259659, 0.07259659, 0.07259659],\n",
       "          ...,\n",
       "          [0.05787539, 0.05787539, 0.05787539],\n",
       "          [0.06161152, 0.06161152, 0.06161152],\n",
       "          [0.06371783, 0.06371783, 0.06371783]],\n",
       " \n",
       "         ...,\n",
       " \n",
       "         [[0.02489462, 0.02489462, 0.02489462],\n",
       "          [0.03450521, 0.03450521, 0.03450521],\n",
       "          [0.02736996, 0.02736996, 0.02736996],\n",
       "          ...,\n",
       "          [0.6019789 , 0.6019789 , 0.6019789 ],\n",
       "          [0.5177048 , 0.5177048 , 0.5177048 ],\n",
       "          [0.07960396, 0.07960396, 0.07960396]],\n",
       " \n",
       "         [[0.0368264 , 0.0368264 , 0.0368264 ],\n",
       "          [0.04505083, 0.04505083, 0.04505083],\n",
       "          [0.03076609, 0.03076609, 0.03076609],\n",
       "          ...,\n",
       "          [0.10256802, 0.10256802, 0.10256802],\n",
       "          [0.08565369, 0.08565369, 0.08565369],\n",
       "          [0.09310441, 0.09310441, 0.09310441]],\n",
       " \n",
       "         [[0.03176276, 0.03176276, 0.03176276],\n",
       "          [0.0363745 , 0.0363745 , 0.0363745 ],\n",
       "          [0.03293319, 0.03293319, 0.03293319],\n",
       "          ...,\n",
       "          [0.08093202, 0.08093202, 0.08093202],\n",
       "          [0.0813975 , 0.0813975 , 0.0813975 ],\n",
       "          [0.08713379, 0.08713379, 0.08713379]]],\n",
       " \n",
       " \n",
       "        [[[0.90588236, 0.6666667 , 0.30980393],\n",
       "          [0.9254902 , 0.69411767, 0.33333334],\n",
       "          [0.9529412 , 0.7294118 , 0.3764706 ],\n",
       "          ...,\n",
       "          [0.7764706 , 0.49803922, 0.29411766],\n",
       "          [0.6784314 , 0.4862745 , 0.36862746],\n",
       "          [0.12156863, 0.        , 0.        ]],\n",
       " \n",
       "         [[0.93333334, 0.69411767, 0.34509805],\n",
       "          [0.9490196 , 0.7176471 , 0.3647059 ],\n",
       "          [0.9411765 , 0.7176471 , 0.3647059 ],\n",
       "          ...,\n",
       "          [0.75686276, 0.48235294, 0.2784314 ],\n",
       "          [0.6627451 , 0.47058824, 0.3529412 ],\n",
       "          [0.11764706, 0.        , 0.        ]],\n",
       " \n",
       "         [[0.95686275, 0.7137255 , 0.38039216],\n",
       "          [0.9647059 , 0.7294118 , 0.39215687],\n",
       "          [0.9647059 , 0.74509805, 0.40392157],\n",
       "          ...,\n",
       "          [0.73333335, 0.47058824, 0.26666668],\n",
       "          [0.654902  , 0.47058824, 0.36078432],\n",
       "          [0.10980392, 0.        , 0.        ]],\n",
       " \n",
       "         ...,\n",
       " \n",
       "         [[0.16862746, 0.08627451, 0.08235294],\n",
       "          [0.15294118, 0.07450981, 0.07058824],\n",
       "          [0.15686275, 0.08627451, 0.08627451],\n",
       "          ...,\n",
       "          [0.3764706 , 0.14509805, 0.12156863],\n",
       "          [0.30588236, 0.14509805, 0.13725491],\n",
       "          [0.09803922, 0.        , 0.        ]],\n",
       " \n",
       "         [[0.13725491, 0.07450981, 0.07450981],\n",
       "          [0.14509805, 0.09019608, 0.09019608],\n",
       "          [0.14509805, 0.08627451, 0.09803922],\n",
       "          ...,\n",
       "          [0.34117648, 0.11764706, 0.09019608],\n",
       "          [0.3137255 , 0.15686275, 0.14901961],\n",
       "          [0.09803922, 0.        , 0.        ]],\n",
       " \n",
       "         [[0.12941177, 0.08235294, 0.08235294],\n",
       "          [0.13725491, 0.09019608, 0.09019608],\n",
       "          [0.13333334, 0.08627451, 0.10196079],\n",
       "          ...,\n",
       "          [0.36862746, 0.14509805, 0.11764706],\n",
       "          [0.32156864, 0.16470589, 0.15686275],\n",
       "          [0.09803922, 0.        , 0.        ]]],\n",
       " \n",
       " \n",
       "        [[[0.63529414, 0.65882355, 0.6039216 ],\n",
       "          [0.6392157 , 0.6627451 , 0.60784316],\n",
       "          [0.64705884, 0.67058825, 0.6156863 ],\n",
       "          ...,\n",
       "          [0.6666667 , 0.57254905, 0.47058824],\n",
       "          [0.654902  , 0.5686275 , 0.4745098 ],\n",
       "          [0.6509804 , 0.5647059 , 0.47058824]],\n",
       " \n",
       "         [[0.627451  , 0.6509804 , 0.59607846],\n",
       "          [0.63529414, 0.65882355, 0.6039216 ],\n",
       "          [0.6392157 , 0.6627451 , 0.60784316],\n",
       "          ...,\n",
       "          [0.6666667 , 0.5647059 , 0.45882353],\n",
       "          [0.6627451 , 0.5686275 , 0.46666667],\n",
       "          [0.65882355, 0.5647059 , 0.4627451 ]],\n",
       " \n",
       "         [[0.61960787, 0.6431373 , 0.5882353 ],\n",
       "          [0.62352943, 0.64705884, 0.5921569 ],\n",
       "          [0.6313726 , 0.65882355, 0.59607846],\n",
       "          ...,\n",
       "          [0.6784314 , 0.5647059 , 0.44705883],\n",
       "          [0.6745098 , 0.5568628 , 0.44705883],\n",
       "          [0.67058825, 0.5529412 , 0.44313726]],\n",
       " \n",
       "         ...,\n",
       " \n",
       "         [[0.30588236, 0.4       , 0.34509805],\n",
       "          [0.14901961, 0.25490198, 0.1882353 ],\n",
       "          [0.1764706 , 0.28235295, 0.21568628],\n",
       "          ...,\n",
       "          [0.79607844, 0.61960787, 0.39607844],\n",
       "          [0.6       , 0.39607844, 0.2       ],\n",
       "          [0.49019608, 0.28235295, 0.08627451]],\n",
       " \n",
       "         [[0.2627451 , 0.3647059 , 0.3137255 ],\n",
       "          [0.15294118, 0.25882354, 0.2       ],\n",
       "          [0.16078432, 0.26666668, 0.20784314],\n",
       "          ...,\n",
       "          [0.7372549 , 0.5764706 , 0.3647059 ],\n",
       "          [0.5921569 , 0.39607844, 0.1882353 ],\n",
       "          [0.53333336, 0.33333334, 0.1254902 ]],\n",
       " \n",
       "         [[0.21960784, 0.32156864, 0.27058825],\n",
       "          [0.14509805, 0.24705882, 0.19607843],\n",
       "          [0.13725491, 0.24705882, 0.1882353 ],\n",
       "          ...,\n",
       "          [0.7607843 , 0.6       , 0.39607844],\n",
       "          [0.64705884, 0.4627451 , 0.2509804 ],\n",
       "          [0.65882355, 0.45882353, 0.24313726]]],\n",
       " \n",
       " \n",
       "        [[[0.6784314 , 0.7647059 , 0.7529412 ],\n",
       "          [0.77254903, 0.8392157 , 0.8156863 ],\n",
       "          [0.84705883, 0.8862745 , 0.85490197],\n",
       "          ...,\n",
       "          [0.92156863, 1.        , 0.99607843],\n",
       "          [0.90588236, 1.        , 1.        ],\n",
       "          [0.87058824, 0.98039216, 0.99215686]],\n",
       " \n",
       "         [[0.25490198, 0.37254903, 0.52156866],\n",
       "          [0.33333334, 0.45490196, 0.53333336],\n",
       "          [0.47058824, 0.5803922 , 0.62352943],\n",
       "          ...,\n",
       "          [0.92156863, 1.        , 0.99607843],\n",
       "          [0.91764706, 1.        , 0.99607843],\n",
       "          [0.8901961 , 0.99215686, 0.9882353 ]],\n",
       " \n",
       "         [[0.19607843, 0.21960784, 0.26666668],\n",
       "          [0.18039216, 0.23137255, 0.30588236],\n",
       "          [0.20392157, 0.30588236, 0.37254903],\n",
       "          ...,\n",
       "          [0.9372549 , 1.        , 0.99607843],\n",
       "          [0.9137255 , 0.99607843, 1.        ],\n",
       "          [0.85882354, 1.        , 1.        ]],\n",
       " \n",
       "         ...,\n",
       " \n",
       "         [[0.03137255, 0.04705882, 0.05098039],\n",
       "          [0.07450981, 0.07843138, 0.08627451],\n",
       "          [0.1764706 , 0.17254902, 0.15686275],\n",
       "          ...,\n",
       "          [0.5294118 , 0.62352943, 0.56078434],\n",
       "          [0.5254902 , 0.6117647 , 0.56078434],\n",
       "          [0.5372549 , 0.5921569 , 0.49019608]],\n",
       " \n",
       "         [[0.05098039, 0.05098039, 0.05098039],\n",
       "          [0.04705882, 0.05490196, 0.03529412],\n",
       "          [0.0627451 , 0.07058824, 0.06666667],\n",
       "          ...,\n",
       "          [0.54901963, 0.6313726 , 0.5647059 ],\n",
       "          [0.57254905, 0.63529414, 0.53333336],\n",
       "          [0.56078434, 0.627451  , 0.4627451 ]],\n",
       " \n",
       "         [[0.05882353, 0.07843138, 0.0627451 ],\n",
       "          [0.08627451, 0.09411765, 0.08235294],\n",
       "          [0.1254902 , 0.12941177, 0.10588235],\n",
       "          ...,\n",
       "          [0.53333336, 0.63529414, 0.5921569 ],\n",
       "          [0.5411765 , 0.6156863 , 0.5294118 ],\n",
       "          [0.5294118 , 0.6039216 , 0.4862745 ]]],\n",
       " \n",
       " \n",
       "        [[[0.53333336, 0.4627451 , 0.42352942],\n",
       "          [0.5254902 , 0.45882353, 0.41960785],\n",
       "          [0.5019608 , 0.44705883, 0.40392157],\n",
       "          ...,\n",
       "          [0.53333336, 0.53333336, 0.5254902 ],\n",
       "          [0.54901963, 0.54509807, 0.5254902 ],\n",
       "          [0.5254902 , 0.56078434, 0.5568628 ]],\n",
       " \n",
       "         [[0.5176471 , 0.46666667, 0.43137255],\n",
       "          [0.52156866, 0.4745098 , 0.4117647 ],\n",
       "          [0.53333336, 0.48235294, 0.41568628],\n",
       "          ...,\n",
       "          [0.5294118 , 0.54901963, 0.5647059 ],\n",
       "          [0.53333336, 0.5568628 , 0.5411765 ],\n",
       "          [0.53333336, 0.56078434, 0.53333336]],\n",
       " \n",
       "         [[0.49019608, 0.47058824, 0.39607844],\n",
       "          [0.49803922, 0.46666667, 0.41568628],\n",
       "          [0.5058824 , 0.47058824, 0.40392157],\n",
       "          ...,\n",
       "          [0.52156866, 0.56078434, 0.5686275 ],\n",
       "          [0.5058824 , 0.5529412 , 0.5372549 ],\n",
       "          [0.5254902 , 0.5411765 , 0.5372549 ]],\n",
       " \n",
       "         ...,\n",
       " \n",
       "         [[0.42352942, 0.49803922, 0.52156866],\n",
       "          [0.3254902 , 0.40392157, 0.4       ],\n",
       "          [0.34117648, 0.34117648, 0.34901962],\n",
       "          ...,\n",
       "          [0.50980395, 0.5137255 , 0.4509804 ],\n",
       "          [0.50980395, 0.52156866, 0.44705883],\n",
       "          [0.5254902 , 0.5176471 , 0.47058824]],\n",
       " \n",
       "         [[0.42352942, 0.5137255 , 0.48235294],\n",
       "          [0.34509805, 0.40784314, 0.36862746],\n",
       "          [0.32941177, 0.31764707, 0.3529412 ],\n",
       "          ...,\n",
       "          [0.5058824 , 0.5058824 , 0.45882353],\n",
       "          [0.49803922, 0.52156866, 0.41960785],\n",
       "          [0.5254902 , 0.5137255 , 0.45490196]],\n",
       " \n",
       "         [[0.40784314, 0.5058824 , 0.5254902 ],\n",
       "          [0.37254903, 0.42745098, 0.4392157 ],\n",
       "          [0.30588236, 0.29803923, 0.31764707],\n",
       "          ...,\n",
       "          [0.54509807, 0.53333336, 0.49803922],\n",
       "          [0.5647059 , 0.52156866, 0.4509804 ],\n",
       "          [0.5411765 , 0.5294118 , 0.4627451 ]]]], dtype=float32),\n",
       " array([5, 3, 3, 5, 5]))"
      ]
     },
     "execution_count": 22,
     "metadata": {},
     "output_type": "execute_result"
    }
   ],
   "source": [
    "d_test = tf.keras.utils.image_dataset_from_directory('IMG_TEST', batch_size=5) \n",
    "data_test = d_test.map(lambda x,y: (x/255,y))\n",
    "data_test.as_numpy_iterator().next()"
   ]
  },
  {
   "cell_type": "code",
   "execution_count": 23,
   "id": "d53f441b",
   "metadata": {},
   "outputs": [],
   "source": [
    "Y_test2 = np.concatenate([y for x, y in data_test], axis=0)\n",
    "X_test2 = np.concatenate([x for x, y in data_test], axis=0)\n",
    "\n",
    "Y_test2_cat = to_categorical(Y_test2)"
   ]
  },
  {
   "cell_type": "markdown",
   "id": "925ad3c3",
   "metadata": {},
   "source": [
    "#### load in train + validation images:"
   ]
  },
  {
   "cell_type": "code",
   "execution_count": 476,
   "id": "3fac4a31",
   "metadata": {
    "collapsed": true
   },
   "outputs": [
    {
     "name": "stdout",
     "output_type": "stream",
     "text": [
      "Found 600 files belonging to 6 classes.\n"
     ]
    },
    {
     "data": {
      "text/plain": [
       "(array([[[[0.49803922, 0.3529412 , 0.28235295],\n",
       "          [0.41568628, 0.32941177, 0.24705882],\n",
       "          [0.22745098, 0.19215687, 0.1254902 ],\n",
       "          ...,\n",
       "          [0.8509804 , 0.85490197, 0.8627451 ],\n",
       "          [0.9372549 , 0.8745098 , 0.8784314 ],\n",
       "          [0.8156863 , 0.77254903, 0.75686276]],\n",
       " \n",
       "         [[0.48235294, 0.36078432, 0.2901961 ],\n",
       "          [0.5568628 , 0.4509804 , 0.3764706 ],\n",
       "          [0.5294118 , 0.42352942, 0.34901962],\n",
       "          ...,\n",
       "          [0.9764706 , 0.972549  , 0.99607843],\n",
       "          [0.8627451 , 0.827451  , 0.8392157 ],\n",
       "          [0.79607844, 0.7411765 , 0.7294118 ]],\n",
       " \n",
       "         [[0.44705883, 0.3372549 , 0.2901961 ],\n",
       "          [0.44705883, 0.3372549 , 0.28235295],\n",
       "          [0.5529412 , 0.45490196, 0.3764706 ],\n",
       "          ...,\n",
       "          [0.94509804, 0.9254902 , 0.9529412 ],\n",
       "          [0.7921569 , 0.7882353 , 0.8117647 ],\n",
       "          [0.7019608 , 0.63529414, 0.60784316]],\n",
       " \n",
       "         ...,\n",
       " \n",
       "         [[0.23921569, 0.14509805, 0.10588235],\n",
       "          [0.23529412, 0.14901961, 0.10588235],\n",
       "          [0.22745098, 0.14117648, 0.09803922],\n",
       "          ...,\n",
       "          [0.13333334, 0.1764706 , 0.19215687],\n",
       "          [0.10588235, 0.13725491, 0.14901961],\n",
       "          [0.08235294, 0.10980392, 0.13333334]],\n",
       " \n",
       "         [[0.21176471, 0.10588235, 0.07058824],\n",
       "          [0.21960784, 0.11372549, 0.07843138],\n",
       "          [0.21568628, 0.11764706, 0.09019608],\n",
       "          ...,\n",
       "          [0.3137255 , 0.3647059 , 0.3882353 ],\n",
       "          [0.34901962, 0.40392157, 0.41568628],\n",
       "          [0.35686275, 0.41568628, 0.42745098]],\n",
       " \n",
       "         [[0.23529412, 0.12156863, 0.09019608],\n",
       "          [0.24313726, 0.13725491, 0.10980392],\n",
       "          [0.23921569, 0.14117648, 0.11372549],\n",
       "          ...,\n",
       "          [0.4117647 , 0.3764706 , 0.39607844],\n",
       "          [0.45490196, 0.43529412, 0.4509804 ],\n",
       "          [0.4117647 , 0.41568628, 0.42352942]]],\n",
       " \n",
       " \n",
       "        [[[0.4392157 , 0.44705883, 0.3647059 ],\n",
       "          [0.4392157 , 0.44705883, 0.3647059 ],\n",
       "          [0.4392157 , 0.44705883, 0.3647059 ],\n",
       "          ...,\n",
       "          [0.95686275, 0.9098039 , 0.8156863 ],\n",
       "          [0.95686275, 0.9098039 , 0.8156863 ],\n",
       "          [0.95686275, 0.9098039 , 0.8156863 ]],\n",
       " \n",
       "         [[0.45882353, 0.46666667, 0.38431373],\n",
       "          [0.46666667, 0.4745098 , 0.39215687],\n",
       "          [0.48235294, 0.49019608, 0.40784314],\n",
       "          ...,\n",
       "          [0.95686275, 0.9098039 , 0.8156863 ],\n",
       "          [0.95686275, 0.9098039 , 0.8156863 ],\n",
       "          [0.95686275, 0.9098039 , 0.8156863 ]],\n",
       " \n",
       "         [[0.44705883, 0.45490196, 0.37254903],\n",
       "          [0.45490196, 0.4627451 , 0.38039216],\n",
       "          [0.46666667, 0.4745098 , 0.39215687],\n",
       "          ...,\n",
       "          [0.95686275, 0.9098039 , 0.8156863 ],\n",
       "          [0.95686275, 0.9098039 , 0.8156863 ],\n",
       "          [0.95686275, 0.9098039 , 0.8156863 ]],\n",
       " \n",
       "         ...,\n",
       " \n",
       "         [[0.5882353 , 0.5137255 , 0.44705883],\n",
       "          [0.5882353 , 0.5137255 , 0.44705883],\n",
       "          [0.5882353 , 0.5137255 , 0.44705883],\n",
       "          ...,\n",
       "          [0.1764706 , 0.05882353, 0.09019608],\n",
       "          [0.15686275, 0.05882353, 0.08235294],\n",
       "          [0.13333334, 0.04313726, 0.06666667]],\n",
       " \n",
       "         [[0.5647059 , 0.49019608, 0.42352942],\n",
       "          [0.5686275 , 0.49411765, 0.42745098],\n",
       "          [0.5686275 , 0.49411765, 0.42745098],\n",
       "          ...,\n",
       "          [0.19215687, 0.07058824, 0.09019608],\n",
       "          [0.16862746, 0.0627451 , 0.08235294],\n",
       "          [0.15686275, 0.05882353, 0.07450981]],\n",
       " \n",
       "         [[0.52156866, 0.44705883, 0.38039216],\n",
       "          [0.5294118 , 0.45490196, 0.3882353 ],\n",
       "          [0.5372549 , 0.4627451 , 0.39607844],\n",
       "          ...,\n",
       "          [0.16078432, 0.04313726, 0.05098039],\n",
       "          [0.15294118, 0.03921569, 0.05882353],\n",
       "          [0.14509805, 0.03921569, 0.05882353]]],\n",
       " \n",
       " \n",
       "        [[[0.83453345, 0.8433749 , 0.8217704 ],\n",
       "          [0.8607374 , 0.8725021 , 0.84013337],\n",
       "          [0.8354605 , 0.8486345 , 0.8012693 ],\n",
       "          ...,\n",
       "          [0.99215686, 0.99215686, 0.99215686],\n",
       "          [0.99215686, 0.99215686, 0.99215686],\n",
       "          [0.99215686, 0.99215686, 0.99215686]],\n",
       " \n",
       "         [[0.8504818 , 0.8622465 , 0.83372325],\n",
       "          [0.88730663, 0.89907134, 0.87149775],\n",
       "          [0.87476134, 0.8877427 , 0.8416425 ],\n",
       "          ...,\n",
       "          [0.99215686, 0.99215686, 0.99215686],\n",
       "          [0.99215686, 0.99215686, 0.99215686],\n",
       "          [0.99215686, 0.99215686, 0.99215686]],\n",
       " \n",
       "         [[0.4900733 , 0.50183797, 0.46654388],\n",
       "          [0.49809164, 0.50985634, 0.47537652],\n",
       "          [0.5137595 , 0.5255242 , 0.48741144],\n",
       "          ...,\n",
       "          [0.99215686, 0.99215686, 0.99215686],\n",
       "          [0.99215686, 0.99215686, 0.99215686],\n",
       "          [0.99215686, 0.99215686, 0.99215686]],\n",
       " \n",
       "         ...,\n",
       " \n",
       "         [[0.16054137, 0.20760019, 0.1683845 ],\n",
       "          [0.18476275, 0.23182158, 0.19260588],\n",
       "          [0.18003073, 0.22708955, 0.18787387],\n",
       "          ...,\n",
       "          [0.49610907, 0.49610907, 0.45157158],\n",
       "          [0.45525667, 0.45525667, 0.41510418],\n",
       "          [0.44621414, 0.44621414, 0.39998254]],\n",
       " \n",
       "         [[0.14960171, 0.20004596, 0.16083027],\n",
       "          [0.17112438, 0.2181832 , 0.17896752],\n",
       "          [0.1585059 , 0.20556474, 0.16634904],\n",
       "          ...,\n",
       "          [0.47555146, 0.4767681 , 0.42727602],\n",
       "          [0.45837379, 0.45842668, 0.41126207],\n",
       "          [0.47604957, 0.47604957, 0.43006304]],\n",
       " \n",
       "         [[0.15179227, 0.2194087 , 0.17383578],\n",
       "          [0.16090687, 0.21182598, 0.1726103 ],\n",
       "          [0.1697304 , 0.21397059, 0.17616421],\n",
       "          ...,\n",
       "          [0.49898896, 0.50980175, 0.44599083],\n",
       "          [0.4698752 , 0.48257482, 0.42029622],\n",
       "          [0.48452556, 0.49480435, 0.4325954 ]]],\n",
       " \n",
       " \n",
       "        [[[0.15608604, 0.17645   , 0.16076373],\n",
       "          [0.08097905, 0.08500665, 0.07029957],\n",
       "          [0.08779416, 0.07887872, 0.06824449],\n",
       "          ...,\n",
       "          [0.0934252 , 0.07928323, 0.0666547 ],\n",
       "          [0.08640663, 0.08454015, 0.07188936],\n",
       "          [0.16796659, 0.1603226 , 0.14587714]],\n",
       " \n",
       "         [[0.15061873, 0.15653172, 0.14528665],\n",
       "          [0.04557651, 0.03075167, 0.01954657],\n",
       "          [0.19542308, 0.15636991, 0.11670401],\n",
       "          ...,\n",
       "          [0.27375057, 0.21053395, 0.14620912],\n",
       "          [0.06789287, 0.04421483, 0.02365914],\n",
       "          [0.15414321, 0.15699248, 0.15496683]],\n",
       " \n",
       "         [[0.14402287, 0.14149217, 0.13860294],\n",
       "          [0.04151683, 0.0204597 , 0.00965744],\n",
       "          [0.16226974, 0.11199448, 0.04653775],\n",
       "          ...,\n",
       "          [0.41254404, 0.29240102, 0.15526865],\n",
       "          [0.08853161, 0.04404297, 0.03010972],\n",
       "          [0.14836714, 0.13960177, 0.14338236]],\n",
       " \n",
       "         ...,\n",
       " \n",
       "         [[0.1313601 , 0.13182588, 0.12882942],\n",
       "          [0.16308953, 0.13159443, 0.1201361 ],\n",
       "          [0.8347546 , 0.76882327, 0.6610414 ],\n",
       "          ...,\n",
       "          [0.61104596, 0.506818  , 0.39318463],\n",
       "          [0.12221273, 0.08138523, 0.06790484],\n",
       "          [0.1424144 , 0.14020853, 0.12726118]],\n",
       " \n",
       "         [[0.14475146, 0.14694202, 0.16135685],\n",
       "          [0.17354617, 0.15080974, 0.13561462],\n",
       "          [0.83599234, 0.7886977 , 0.7404048 ],\n",
       "          ...,\n",
       "          [0.62561727, 0.5622568 , 0.5098585 ],\n",
       "          [0.14705427, 0.11529158, 0.09032509],\n",
       "          [0.14894876, 0.14220616, 0.1370627 ]],\n",
       " \n",
       "         [[0.1514555 , 0.16110194, 0.20892118],\n",
       "          [0.05921679, 0.05999684, 0.0635826 ],\n",
       "          [0.08976692, 0.07848618, 0.0641142 ],\n",
       "          ...,\n",
       "          [0.09457672, 0.06213187, 0.05162928],\n",
       "          [0.08946317, 0.07320892, 0.06494859],\n",
       "          [0.16344713, 0.15358743, 0.15549244]]],\n",
       " \n",
       " \n",
       "        [[[0.38039216, 0.30588236, 0.07450981],\n",
       "          [0.3882353 , 0.30980393, 0.07843138],\n",
       "          [0.3882353 , 0.30588236, 0.08235294],\n",
       "          ...,\n",
       "          [0.37254903, 0.38039216, 0.23529412],\n",
       "          [0.38039216, 0.3882353 , 0.24313726],\n",
       "          [0.38039216, 0.3882353 , 0.24313726]],\n",
       " \n",
       "         [[0.3882353 , 0.31764707, 0.07450981],\n",
       "          [0.39215687, 0.3137255 , 0.08235294],\n",
       "          [0.38039216, 0.29803923, 0.07450981],\n",
       "          ...,\n",
       "          [0.36078432, 0.36862746, 0.22352941],\n",
       "          [0.37254903, 0.38039216, 0.23529412],\n",
       "          [0.3647059 , 0.37254903, 0.22745098]],\n",
       " \n",
       "         [[0.38431373, 0.30588236, 0.06666667],\n",
       "          [0.38431373, 0.30588236, 0.06666667],\n",
       "          [0.38431373, 0.30588236, 0.07450981],\n",
       "          ...,\n",
       "          [0.36862746, 0.36078432, 0.21176471],\n",
       "          [0.38431373, 0.3764706 , 0.22745098],\n",
       "          [0.38039216, 0.37254903, 0.22352941]],\n",
       " \n",
       "         ...,\n",
       " \n",
       "         [[0.31764707, 0.23137255, 0.07058824],\n",
       "          [0.19215687, 0.14117648, 0.01568628],\n",
       "          [0.15294118, 0.14117648, 0.06666667],\n",
       "          ...,\n",
       "          [0.21176471, 0.21568628, 0.14509805],\n",
       "          [0.16862746, 0.18039216, 0.09803922],\n",
       "          [0.14509805, 0.15686275, 0.07450981]],\n",
       " \n",
       "         [[0.3019608 , 0.23529412, 0.06666667],\n",
       "          [0.20784314, 0.15294118, 0.05098039],\n",
       "          [0.1254902 , 0.09803922, 0.05882353],\n",
       "          ...,\n",
       "          [0.29411766, 0.26666668, 0.16470589],\n",
       "          [0.18039216, 0.16078432, 0.08235294],\n",
       "          [0.13333334, 0.12941177, 0.05882353]],\n",
       " \n",
       "         [[0.30588236, 0.23921569, 0.07058824],\n",
       "          [0.22352941, 0.16862746, 0.06666667],\n",
       "          [0.13333334, 0.09411765, 0.05490196],\n",
       "          ...,\n",
       "          [0.11764706, 0.08627451, 0.00392157],\n",
       "          [0.16862746, 0.15686275, 0.09803922],\n",
       "          [0.11764706, 0.1254902 , 0.07450981]]]], dtype=float32),\n",
       " array([1, 1, 3, 3, 1]))"
      ]
     },
     "execution_count": 476,
     "metadata": {},
     "output_type": "execute_result"
    }
   ],
   "source": [
    "d = tf.keras.utils.image_dataset_from_directory('IMAGES2', batch_size=5) \n",
    "data = d.map(lambda x,y: (x/255,y))\n",
    "data.as_numpy_iterator().next()"
   ]
  },
  {
   "cell_type": "code",
   "execution_count": 477,
   "id": "5d6306e3",
   "metadata": {},
   "outputs": [],
   "source": [
    "train_size = int(len(data)*.8) \n",
    "test_size = int(len(data)*.2) \n",
    "\n",
    "train = data.take(train_size)\n",
    "test = data.skip(train_size).take(test_size)"
   ]
  },
  {
   "cell_type": "code",
   "execution_count": 478,
   "id": "6e37a3be",
   "metadata": {},
   "outputs": [],
   "source": [
    "Y_train = np.concatenate([y for x, y in train], axis=0)\n",
    "X_train = np.concatenate([x for x, y in train], axis=0)\n",
    "Y_test = np.concatenate([y for x, y in test], axis=0)\n",
    "X_test = np.concatenate([x for x, y in test], axis=0)\n",
    "\n",
    "Y_train_cat = to_categorical(Y_train)\n",
    "Y_test_cat = to_categorical(Y_test)"
   ]
  },
  {
   "cell_type": "markdown",
   "id": "f55c8e74",
   "metadata": {},
   "source": [
    "## Data augmentation:"
   ]
  },
  {
   "cell_type": "code",
   "execution_count": 479,
   "id": "3ef859b2",
   "metadata": {},
   "outputs": [],
   "source": [
    "train_datagen = ImageDataGenerator(\n",
    "    #rescale=1./255,\n",
    "    height_shift_range = 0.2,\n",
    "    featurewise_center=True,\n",
    "    featurewise_std_normalization=True,\n",
    "    zoom_range = 0.4,\n",
    "    horizontal_flip = True,\n",
    "    fill_mode='reflect',\n",
    ")"
   ]
  },
  {
   "cell_type": "code",
   "execution_count": 480,
   "id": "378a6d70",
   "metadata": {},
   "outputs": [],
   "source": [
    "train_datagen.fit(X_train)\n",
    "train_generator = train_datagen.flow(\n",
    "    X_train,\n",
    "    Y_train_cat,\n",
    "    batch_size = 16)"
   ]
  },
  {
   "cell_type": "code",
   "execution_count": 481,
   "id": "d7ada159",
   "metadata": {},
   "outputs": [],
   "source": [
    "test_datagen = ImageDataGenerator()\n",
    "test_generator = test_datagen.flow(\n",
    "    X_test,\n",
    "    Y_test_cat,\n",
    "    batch_size = 16)"
   ]
  },
  {
   "cell_type": "markdown",
   "id": "76cc2c8c",
   "metadata": {},
   "source": [
    "# MODEL:"
   ]
  },
  {
   "cell_type": "code",
   "execution_count": 570,
   "id": "9b88fb9c",
   "metadata": {},
   "outputs": [],
   "source": [
    "audio_input = Input(shape=(1249, 129, 1))\n",
    "audio_conv1 = Conv2D(32, (3, 3), activation='relu')(audio_input)\n",
    "audio_maxpool1 = MaxPool2D(pool_size=2, strides=2)(audio_conv1)\n",
    "\n",
    "audio_conv2 = Conv2D(32, (3, 3), activation='relu')(audio_maxpool1)\n",
    "audio_maxpool2 = MaxPool2D(pool_size=2, strides=2)(audio_conv2)\n",
    "\n",
    "audio_flatten = Flatten()(audio_maxpool2)\n",
    "\n",
    "image_input = Input(shape=(256, 256, 3))\n",
    "image_conv1 = Conv2D(32, (3, 3), activation='relu')(image_input)\n",
    "image_maxpool1 = MaxPool2D(pool_size=2, strides=2)(image_conv1)\n",
    "image_flatten = Flatten()(image_maxpool1)\n",
    "\n",
    "# Concatenate the audio and image features:\n",
    "merged_features = tf.keras.layers.concatenate([audio_flatten, image_flatten])\n",
    "\n",
    "dense1 = Dense(128, activation='relu')(merged_features)\n",
    "output = Dense(6, activation='softmax')(dense1)\n",
    "\n",
    "model2 = Model(inputs=[audio_input, image_input], outputs=output)"
   ]
  },
  {
   "cell_type": "code",
   "execution_count": 571,
   "id": "3768cb4a",
   "metadata": {},
   "outputs": [
    {
     "name": "stdout",
     "output_type": "stream",
     "text": [
      "Model: \"model_20\"\n",
      "__________________________________________________________________________________________________\n",
      " Layer (type)                   Output Shape         Param #     Connected to                     \n",
      "==================================================================================================\n",
      " input_37 (InputLayer)          [(None, 1249, 129,   0           []                               \n",
      "                                1)]                                                               \n",
      "                                                                                                  \n",
      " conv2d_188 (Conv2D)            (None, 1247, 127, 3  320         ['input_37[0][0]']               \n",
      "                                2)                                                                \n",
      "                                                                                                  \n",
      " max_pooling2d_187 (MaxPooling2  (None, 623, 63, 32)  0          ['conv2d_188[0][0]']             \n",
      " D)                                                                                               \n",
      "                                                                                                  \n",
      " input_38 (InputLayer)          [(None, 256, 256, 3  0           []                               \n",
      "                                )]                                                                \n",
      "                                                                                                  \n",
      " conv2d_189 (Conv2D)            (None, 621, 61, 32)  9248        ['max_pooling2d_187[0][0]']      \n",
      "                                                                                                  \n",
      " conv2d_190 (Conv2D)            (None, 254, 254, 32  896         ['input_38[0][0]']               \n",
      "                                )                                                                 \n",
      "                                                                                                  \n",
      " max_pooling2d_188 (MaxPooling2  (None, 310, 30, 32)  0          ['conv2d_189[0][0]']             \n",
      " D)                                                                                               \n",
      "                                                                                                  \n",
      " max_pooling2d_189 (MaxPooling2  (None, 127, 127, 32  0          ['conv2d_190[0][0]']             \n",
      " D)                             )                                                                 \n",
      "                                                                                                  \n",
      " flatten_64 (Flatten)           (None, 297600)       0           ['max_pooling2d_188[0][0]']      \n",
      "                                                                                                  \n",
      " flatten_65 (Flatten)           (None, 516128)       0           ['max_pooling2d_189[0][0]']      \n",
      "                                                                                                  \n",
      " concatenate_14 (Concatenate)   (None, 813728)       0           ['flatten_64[0][0]',             \n",
      "                                                                  'flatten_65[0][0]']             \n",
      "                                                                                                  \n",
      " dense_100 (Dense)              (None, 128)          104157312   ['concatenate_14[0][0]']         \n",
      "                                                                                                  \n",
      " dense_101 (Dense)              (None, 6)            774         ['dense_100[0][0]']              \n",
      "                                                                                                  \n",
      "==================================================================================================\n",
      "Total params: 104,168,550\n",
      "Trainable params: 104,168,550\n",
      "Non-trainable params: 0\n",
      "__________________________________________________________________________________________________\n"
     ]
    }
   ],
   "source": [
    "model2.compile('Adam', loss='categorical_crossentropy',  metrics=['accuracy'])\n",
    "model2.summary()"
   ]
  },
  {
   "cell_type": "markdown",
   "id": "a8919d8c",
   "metadata": {},
   "source": [
    "#### Combining image+audio:"
   ]
  },
  {
   "cell_type": "code",
   "execution_count": 484,
   "id": "cf063781",
   "metadata": {},
   "outputs": [],
   "source": [
    "#combine generators:\n",
    "def combined_generator(audio_generator, image_generator):\n",
    "    while True:\n",
    "        audio_images, audio_labels = audio_generator.next()\n",
    "        image_images, image_labels = image_generator.next()\n",
    "        yield [audio_images, image_images], audio_labels"
   ]
  },
  {
   "cell_type": "code",
   "execution_count": 485,
   "id": "ccd1160c",
   "metadata": {},
   "outputs": [],
   "source": [
    "combined_gen_train = combined_generator(audio_train_generator, train_generator)\n",
    "combined_gen_test = combined_generator(audio_val_generator, test_generator)"
   ]
  },
  {
   "cell_type": "code",
   "execution_count": null,
   "id": "812db0df",
   "metadata": {},
   "outputs": [],
   "source": [
    "hist = model2.fit(combined_gen_train, epochs=25, \n",
    "                  steps_per_epoch = 30,\n",
    "                  #validation_data=audio_val_generator, \n",
    "                  #batch_size = 16, \n",
    "                  callbacks=myCallback())"
   ]
  },
  {
   "cell_type": "code",
   "execution_count": 16,
   "id": "2e0f4f63",
   "metadata": {},
   "outputs": [],
   "source": [
    "#model2.save('Fused_1020.h5')\n",
    "#model = tf.keras.models.load_model('Fused_1020.h5')"
   ]
  },
  {
   "cell_type": "markdown",
   "id": "bc488218",
   "metadata": {},
   "source": [
    "### model evaluation:"
   ]
  },
  {
   "cell_type": "code",
   "execution_count": 25,
   "id": "5ccac734",
   "metadata": {},
   "outputs": [
    {
     "name": "stdout",
     "output_type": "stream",
     "text": [
      "2/2 [==============================] - 2s 513ms/step\n"
     ]
    }
   ],
   "source": [
    "test_predictions = model.predict([audio_X_test2, X_test2])"
   ]
  },
  {
   "cell_type": "code",
   "execution_count": 26,
   "id": "17134b39",
   "metadata": {},
   "outputs": [
    {
     "data": {
      "image/png": "[encoded data removed]",
      "text/plain": [
       "<Figure size 576x576 with 2 Axes>"
      ]
     },
     "metadata": {
      "needs_background": "light"
     },
     "output_type": "display_data"
    }
   ],
   "source": [
    "test_predicted2 = np.argmax(test_predictions, axis = 1)\n",
    "test_true2 = np.argmax(audio_Y_test2_cat, axis = 1)\n",
    "confmx2 = confusion_matrix(test_predicted2, test_true2)\n",
    "f, ax = plt.subplots(figsize = (8,8))\n",
    "sns.heatmap(confmx2, annot=True, fmt='.1f', ax = ax, cmap = 'Blues')\n",
    "labels = ['home', 'library', 'office', 'cafe', 'store', 'metro']\n",
    "plt.xlabel('Predicted Labels')\n",
    "plt.ylabel('True Labels')\n",
    "\n",
    "ax.set_xticklabels(labels)\n",
    "ax.set_yticklabels(labels)\n",
    "\n",
    "plt.title('Confusion Matrix of Audio-Visual Classification model')\n",
    "#plt.savefig('CF_fusion2.jpg')\n",
    "plt.show();"
   ]
  }
 ],
 "metadata": {
  "kernelspec": {
   "display_name": "Python 3 (ipykernel)",
   "language": "python",
   "name": "python3"
  },
  "language_info": {
   "codemirror_mode": {
    "name": "ipython",
    "version": 3
   },
   "file_extension": ".py",
   "mimetype": "text/x-python",
   "name": "python",
   "nbconvert_exporter": "python",
   "pygments_lexer": "ipython3",
   "version": "3.9.12"
  }
 },
 "nbformat": 4,
 "nbformat_minor": 5
}
