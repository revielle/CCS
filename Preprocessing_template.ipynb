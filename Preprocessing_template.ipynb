{
 "cells": [
  {
   "cell_type": "markdown",
   "id": "5282102a",
   "metadata": {},
   "source": [
    "# Preprocessing template:"
   ]
  },
  {
   "cell_type": "markdown",
   "id": "298495f6",
   "metadata": {},
   "source": [
    "list of libraries:"
   ]
  },
  {
   "cell_type": "code",
   "execution_count": 1,
   "id": "39f75f1e",
   "metadata": {},
   "outputs": [
    {
     "name": "stderr",
     "output_type": "stream",
     "text": [
      "C:\\Users\\revie\\anaconda3\\lib\\site-packages\\pydub\\utils.py:170: RuntimeWarning: Couldn't find ffmpeg or avconv - defaulting to ffmpeg, but may not work\n",
      "  warn(\"Couldn't find ffmpeg or avconv - defaulting to ffmpeg, but may not work\", RuntimeWarning)\n"
     ]
    }
   ],
   "source": [
    "from os import listdir\n",
    "from os.path import isfile, join\n",
    "import glob\n",
    "from pydub import AudioSegment"
   ]
  },
  {
   "cell_type": "markdown",
   "id": "645812f2",
   "metadata": {},
   "source": [
    "## read files"
   ]
  },
  {
   "cell_type": "code",
   "execution_count": 7,
   "id": "5e18c675",
   "metadata": {},
   "outputs": [],
   "source": [
    "#from os import listdir\n",
    "#from os.path import isfile, join\n",
    "\n",
    "files = [f for f in listdir(\"AUDIO/home_NEW\") if isfile(join(\"AUDIO/home_NEW\", f))]\n",
    "#files"
   ]
  },
  {
   "cell_type": "code",
   "execution_count": 63,
   "id": "b9ea7cdc",
   "metadata": {},
   "outputs": [],
   "source": [
    "a = glob.glob(\"AUDIO/home/*.wav\")   \n",
    "b = glob.glob(\"AUDIO/library/*.wav\")  \n",
    "c = glob.glob(\"AUDIO/office/*.wav\")   \n",
    "d = glob.glob(\"AUDIO/restaurant/*.wav\")   \n",
    "e = glob.glob(\"AUDIO/store/*.wav\")   \n",
    "f = glob.glob(\"AUDIO/subway/*.wav\")   "
   ]
  },
  {
   "cell_type": "markdown",
   "id": "63077f55",
   "metadata": {},
   "source": [
    "## Renaming images + audio:"
   ]
  },
  {
   "cell_type": "code",
   "execution_count": 55,
   "id": "fdcd452d",
   "metadata": {},
   "outputs": [],
   "source": [
    "path = \"...\" #get path\n",
    "i = 0\n",
    "for filename in os.listdir(path): #for every file in directory\n",
    "    os.rename(os.path.join(path,filename), os.path.join(path,'name_'+str(i)+'.wav')) #rewrite name\n",
    "    i = i +1"
   ]
  },
  {
   "cell_type": "markdown",
   "id": "1fff920d",
   "metadata": {},
   "source": [
    "## Resize Audio"
   ]
  },
  {
   "cell_type": "markdown",
   "id": "2ce6853c",
   "metadata": {},
   "source": [
    "#### converting our 24bit wav to 16bit wav files:"
   ]
  },
  {
   "cell_type": "code",
   "execution_count": null,
   "id": "2baccd5f",
   "metadata": {},
   "outputs": [],
   "source": [
    "import soundfile\n",
    "#writing the files\n",
    "img_dir = 'AUDIO ALL/home' #TOCHANGE 1.\n",
    "#creating target directory:\n",
    "new_dir = os.mkdir('AUDIO_ALL/home') #TOCHANGE 2.\n",
    "#get path to target directory:\n",
    "path_to_new_dir = os.path.realpath('AUDIO_ALL/home') #TOCHANGE 3.\n",
    "#convert audio:\n",
    "for file in os.listdir(img_dir):\n",
    "    data, samplerate = soundfile.read('AUDIO ALL/home/' + str(file)) #TOCHANGE 4.\n",
    "    soundfile.write(str(file), data, samplerate, subtype='PCM_16')"
   ]
  },
  {
   "cell_type": "code",
   "execution_count": null,
   "id": "72595f6f",
   "metadata": {},
   "outputs": [],
   "source": [
    "#read in vaw files from directory\n",
    "import glob\n",
    "files = glob.glob(\"*.wav\")"
   ]
  },
  {
   "cell_type": "code",
   "execution_count": null,
   "id": "f5dfc005",
   "metadata": {},
   "outputs": [],
   "source": [
    "#move files to target folder\n",
    "import shutil\n",
    "for f in files:\n",
    "    shutil.move(f, path_to_new_dir)"
   ]
  },
  {
   "cell_type": "markdown",
   "id": "85b17d8b",
   "metadata": {},
   "source": [
    "#### length of audio files:"
   ]
  },
  {
   "cell_type": "code",
   "execution_count": null,
   "id": "7633b5fa",
   "metadata": {},
   "outputs": [],
   "source": [
    "lengths = []\n",
    "for file in os.listdir(os.path.join('AUDIO_ALL', 'home')):\n",
    "    tensor_wave = load_wav_data(os.path.join('AUDIO_ALL', 'home', file))\n",
    "    lengths.append(len(tensor_wave))"
   ]
  },
  {
   "cell_type": "code",
   "execution_count": null,
   "id": "3b22b825",
   "metadata": {},
   "outputs": [],
   "source": [
    "tf.math.reduce_mean(lengths) #mean"
   ]
  },
  {
   "cell_type": "code",
   "execution_count": null,
   "id": "baaa70d0",
   "metadata": {},
   "outputs": [],
   "source": [
    "tf.math.reduce_min(lengths) #min"
   ]
  },
  {
   "cell_type": "code",
   "execution_count": null,
   "id": "558f625e",
   "metadata": {},
   "outputs": [],
   "source": [
    "tf.math.reduce_max(lengths) #max"
   ]
  },
  {
   "cell_type": "markdown",
   "id": "87a1b4a9",
   "metadata": {},
   "source": [
    "## segmentation:"
   ]
  },
  {
   "cell_type": "code",
   "execution_count": 2,
   "id": "25bd6ca4",
   "metadata": {},
   "outputs": [],
   "source": [
    "a = glob.glob(\"AUDIO/home/*.wav\")   \n",
    "b = glob.glob(\"AUDIO/library/*.wav\")  \n",
    "c = glob.glob(\"AUDIO/office/*.wav\")   \n",
    "d = glob.glob(\"AUDIO/restaurant/*.wav\")   \n",
    "e = glob.glob(\"AUDIO/store/*.wav\")   \n",
    "f = glob.glob(\"AUDIO/subway/*.wav\")   "
   ]
  },
  {
   "cell_type": "code",
   "execution_count": 3,
   "id": "7de661ca",
   "metadata": {},
   "outputs": [
    {
     "data": {
      "text/plain": [
       "10.000022675736961"
      ]
     },
     "execution_count": 3,
     "metadata": {},
     "output_type": "execute_result"
    }
   ],
   "source": [
    "from pydub import AudioSegment\n",
    "sound = AudioSegment.from_wav(a[0])\n",
    "sound.duration_seconds  #10 sec each"
   ]
  },
  {
   "cell_type": "code",
   "execution_count": 5,
   "id": "1dcfa034",
   "metadata": {},
   "outputs": [],
   "source": [
    "def split_into_segments(file_name, export_path, export_name, number):\n",
    "    sound = AudioSegment.from_wav(file_name)\n",
    "    duration = sound.duration_seconds #duration of the entire audio file in seconds:\n",
    "    number_of_segments = int(duration / 5)\n",
    "\n",
    "    segment_start = 0 #segment beginning \n",
    "    segment_end = 5 * 1000#end\n",
    "    segment_start2 = 5 * 1000\n",
    "    segment_end2 = 10 * 1000\n",
    "        \n",
    "    for i in range(number_of_segments):\n",
    "        n = number\n",
    "        sound_export = sound[segment_start:segment_end]\n",
    "        sound_export2 = sound[segment_start2:segment_end2]\n",
    "        sound_export.export(\n",
    "            \"{}/{}_{}.wav\".format(export_path, export_name, n),\n",
    "            format=\"wav\")\n",
    "        sound_export2.export(\n",
    "            \"{}/{}_{}.wav\".format(export_path, export_name, n+0.1),\n",
    "            format=\"wav\")\n",
    "        \n",
    "    print(\"Successfully splitted file {} into {} segments\".format(file_name, 2)) "
   ]
  },
  {
   "cell_type": "code",
   "execution_count": 13,
   "id": "c361e449",
   "metadata": {},
   "outputs": [
    {
     "name": "stdout",
     "output_type": "stream",
     "text": [
      "Successfully splitted file AUDIO/subway\\subway_0.wav into 2 segments\n",
      "Successfully splitted file AUDIO/subway\\subway_1.wav into 2 segments\n",
      "Successfully splitted file AUDIO/subway\\subway_2.wav into 2 segments\n",
      "Successfully splitted file AUDIO/subway\\subway_3.wav into 2 segments\n",
      "Successfully splitted file AUDIO/subway\\subway_4.wav into 2 segments\n",
      "Successfully splitted file AUDIO/subway\\subway_5.wav into 2 segments\n",
      "Successfully splitted file AUDIO/subway\\subway_6.wav into 2 segments\n",
      "Successfully splitted file AUDIO/subway\\subway_7.wav into 2 segments\n",
      "Successfully splitted file AUDIO/subway\\subway_8.wav into 2 segments\n",
      "Successfully splitted file AUDIO/subway\\subway_9.wav into 2 segments\n"
     ]
    }
   ],
   "source": [
    "for i, audio_file in enumerate(f):\n",
    "    split_into_segments(audio_file,  export_path='AUDIO_TEST/library', export_name = 'library', number = i)"
   ]
  }
 ],
 "metadata": {
  "kernelspec": {
   "display_name": "Python 3 (ipykernel)",
   "language": "python",
   "name": "python3"
  },
  "language_info": {
   "codemirror_mode": {
    "name": "ipython",
    "version": 3
   },
   "file_extension": ".py",
   "mimetype": "text/x-python",
   "name": "python",
   "nbconvert_exporter": "python",
   "pygments_lexer": "ipython3",
   "version": "3.9.12"
  }
 },
 "nbformat": 4,
 "nbformat_minor": 5
}
